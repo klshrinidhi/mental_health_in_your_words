{
 "cells": [
  {
   "cell_type": "code",
   "execution_count": null,
   "id": "c148b3b9",
   "metadata": {},
   "outputs": [],
   "source": [
    "from itertools import chain\n",
    "import pathlib\n",
    "import pickle\n",
    "\n",
    "import numpy as np\n",
    "from scipy.stats import wilcoxon\n",
    "import polars as pl\n",
    "import sklearn.metrics as skm\n",
    "import matplotlib.pyplot as plt\n",
    "import seaborn as sns"
   ]
  },
  {
   "cell_type": "code",
   "execution_count": null,
   "id": "e5990e28",
   "metadata": {},
   "outputs": [],
   "source": [
    "sns.set_theme(style='white',\n",
    "              font_scale=2,\n",
    "              rc={'xtick.bottom':True,\n",
    "                  'ytick.left':True})\n",
    "plt_px = 1/plt.rcParams['figure.dpi']"
   ]
  },
  {
   "cell_type": "code",
   "execution_count": null,
   "id": "3e768374",
   "metadata": {},
   "outputs": [],
   "source": [
    "mental_health_d = pathlib.Path('ROOT_D')"
   ]
  },
  {
   "cell_type": "code",
   "execution_count": null,
   "id": "bf5858a4",
   "metadata": {},
   "outputs": [],
   "source": [
    "N_SAMPLES = 5\n",
    "N_RUNS = 10\n",
    "BASE_ALGO = 'NeuralNetFastAI'"
   ]
  },
  {
   "cell_type": "markdown",
   "id": "7579ccde",
   "metadata": {},
   "source": [
    "# Convenience Functions"
   ]
  },
  {
   "cell_type": "code",
   "execution_count": null,
   "id": "6225eb37",
   "metadata": {},
   "outputs": [],
   "source": [
    "def compute_wilcoxon_score(x):\n",
    "    x = x.to_list()\n",
    "    if isinstance(x[0],list):\n",
    "        x = list(chain(*x))\n",
    "    res = wilcoxon(x,alternative='greater')\n",
    "    return [res.statistic,res.pvalue]"
   ]
  },
  {
   "cell_type": "code",
   "execution_count": null,
   "id": "0b1a1e04",
   "metadata": {},
   "outputs": [],
   "source": [
    "def compute_binary_mean_metrics_nosampling(df_results, roc_auc=True):\n",
    "    label_to_id = {'minimal':0,\n",
    "                   'mild':1,\n",
    "                   'moderate':1,\n",
    "                   'moderately-severe':1,\n",
    "                   'severe':1}\n",
    "    df_results_binary = df_results.with_columns(\n",
    "        pl.col('anxiety').replace_strict(label_to_id),\n",
    "        pl.col('depression').replace_strict(label_to_id),\n",
    "        pl.col('anxiety_pd').replace_strict(label_to_id),\n",
    "        pl.col('depression_pd').replace_strict(label_to_id)\n",
    "    )\n",
    "    anx_gt_pd = (df_results_binary['anxiety'],df_results_binary['anxiety_pd'])\n",
    "    dep_gt_pd = (df_results_binary['depression'],df_results_binary['depression_pd'])\n",
    "    kw_args1 = {'average':'weighted',\n",
    "                'labels':[0,1]}\n",
    "    kw_args2 = {'average':'weighted',\n",
    "                'labels':[0,1],\n",
    "                'zero_division':np.nan}\n",
    "    df_scores = [{\n",
    "        # 'anx_acc':skm.accuracy_score(*anx_gt_pd),\n",
    "        # 'dep_acc':skm.accuracy_score(*dep_gt_pd),\n",
    "        'anx_balacc':skm.balanced_accuracy_score(*anx_gt_pd),\n",
    "        'dep_balacc':skm.balanced_accuracy_score(*dep_gt_pd),\n",
    "        'anx_f1':skm.f1_score(*anx_gt_pd,**kw_args2),\n",
    "        'dep_f1':skm.f1_score(*dep_gt_pd,**kw_args2),\n",
    "        'anx_pr':skm.precision_score(*anx_gt_pd,**kw_args2),\n",
    "        'dep_pr':skm.precision_score(*dep_gt_pd,**kw_args2),\n",
    "        'anx_rc':skm.recall_score(*anx_gt_pd,**kw_args2),\n",
    "        'dep_rc':skm.recall_score(*dep_gt_pd,**kw_args2),\n",
    "        'anx_auc':skm.roc_auc_score(*anx_gt_pd,**kw_args1) if roc_auc else 0,\n",
    "        'dep_auc':skm.roc_auc_score(*dep_gt_pd,**kw_args1) if roc_auc else 0\n",
    "    }]\n",
    "    df_scores = pl.DataFrame(df_scores)\n",
    "    df_scores = df_scores.select((pl.col('*')*100).round(1))\n",
    "    return df_scores"
   ]
  },
  {
   "cell_type": "code",
   "execution_count": null,
   "id": "ad285823",
   "metadata": {},
   "outputs": [],
   "source": [
    "def compute_multiclass_mean_metrics_nosampling(df_results):\n",
    "    label_to_id = {'minimal':0,\n",
    "                   'mild':1,\n",
    "                   'moderate':2,\n",
    "                   'moderately-severe':3,\n",
    "                   'severe':3}\n",
    "    df_results_multiclass = df_results.with_columns(\n",
    "        pl.col('anxiety').replace_strict(label_to_id),\n",
    "        pl.col('depression').replace_strict(label_to_id),\n",
    "        pl.col('anxiety_pd').replace_strict(label_to_id),\n",
    "        pl.col('depression_pd').replace_strict(label_to_id)\n",
    "    )\n",
    "    anx_gt_pd = (df_results_multiclass['anxiety'],df_results_multiclass['anxiety_pd'])\n",
    "    dep_gt_pd = (df_results_multiclass['depression'],df_results_multiclass['depression_pd'])\n",
    "    kw_args = {'average':'weighted',\n",
    "                'labels':[0,1,2,3],\n",
    "                'zero_division':np.nan}\n",
    "    df_scores = [{\n",
    "        # 'anx_acc':skm.accuracy_score(*anx_gt_pd),\n",
    "        # 'dep_acc':skm.accuracy_score(*dep_gt_pd),\n",
    "        'anx_balacc':skm.balanced_accuracy_score(*anx_gt_pd),\n",
    "        'dep_balacc':skm.balanced_accuracy_score(*dep_gt_pd),\n",
    "        'anx_f1':skm.f1_score(*anx_gt_pd,**kw_args),\n",
    "        'dep_f1':skm.f1_score(*dep_gt_pd,**kw_args),\n",
    "        'anx_pr':skm.precision_score(*anx_gt_pd,**kw_args),\n",
    "        'dep_pr':skm.precision_score(*dep_gt_pd,**kw_args),\n",
    "        'anx_rc':skm.recall_score(*anx_gt_pd,**kw_args),\n",
    "        'dep_rc':skm.recall_score(*dep_gt_pd,**kw_args),\n",
    "    }]\n",
    "    df_scores = pl.DataFrame(df_scores)\n",
    "    df_scores = df_scores.select((pl.col('*')*100).round(1))\n",
    "    return df_scores"
   ]
  },
  {
   "cell_type": "code",
   "execution_count": null,
   "id": "6cd23bed",
   "metadata": {},
   "outputs": [],
   "source": [
    "def compute_binary_mean_metrics(df_results, roc_auc=True):\n",
    "    label_to_id = {'minimal':0,\n",
    "                   'mild':1,\n",
    "                   'moderate':1,\n",
    "                   'moderately-severe':1,\n",
    "                   'severe':1}\n",
    "    df_results_binary = df_results.with_columns(\n",
    "        pl.col('anxiety').replace_strict(label_to_id),\n",
    "        pl.col('depression').replace_strict(label_to_id),\n",
    "        pl.col('anxiety_pd').replace_strict(label_to_id),\n",
    "        pl.col('depression_pd').replace_strict(label_to_id)\n",
    "    )\n",
    "    df_scores = list()\n",
    "    train_participant_ids = df_results_binary['train_participant_ids'].unique().sort()\n",
    "    for n_samples in range(N_SAMPLES,N_SAMPLES+1):\n",
    "        for i_run in range(N_RUNS):\n",
    "            sample_train_participant_ids = train_participant_ids.sample(n_samples,seed=100*n_samples+i_run)\n",
    "            df_val = df_results_binary.filter(pl.col('train_participant_ids').is_in(sample_train_participant_ids))\n",
    "            df_mean = df_val.group_by('val_participant_id').agg(\n",
    "                pl.col('anxiety').first(),\n",
    "                pl.col('depression').first(),\n",
    "                pl.col('anxiety_pd').mean().round().cast(pl.Int64),\n",
    "                pl.col('depression_pd').mean().round().cast(pl.Int64)\n",
    "            )\n",
    "            anx_gt_pd = (df_mean['anxiety'],df_mean['anxiety_pd'])\n",
    "            dep_gt_pd = (df_mean['depression'],df_mean['depression_pd'])\n",
    "            kw_args1 = {'average':'weighted',\n",
    "                        'labels':[0,1]}\n",
    "            kw_args2 = {'average':'weighted',\n",
    "                        'labels':[0,1],\n",
    "                        'zero_division':np.nan}\n",
    "            df_scores.append({\n",
    "                'samples':n_samples,\n",
    "                'run':i_run,\n",
    "                # 'anx_acc':skm.accuracy_score(*anx_gt_pd),\n",
    "                # 'dep_acc':skm.accuracy_score(*dep_gt_pd),\n",
    "                'anx_balacc':skm.balanced_accuracy_score(*anx_gt_pd),\n",
    "                'dep_balacc':skm.balanced_accuracy_score(*dep_gt_pd),\n",
    "                'anx_f1':skm.f1_score(*anx_gt_pd,**kw_args2),\n",
    "                'dep_f1':skm.f1_score(*dep_gt_pd,**kw_args2),\n",
    "                'anx_pr':skm.precision_score(*anx_gt_pd,**kw_args2),\n",
    "                'dep_pr':skm.precision_score(*dep_gt_pd,**kw_args2),\n",
    "                'anx_rc':skm.recall_score(*anx_gt_pd,**kw_args2),\n",
    "                'dep_rc':skm.recall_score(*dep_gt_pd,**kw_args2),\n",
    "                'anx_auc':skm.roc_auc_score(*anx_gt_pd,**kw_args1) if roc_auc else 0,\n",
    "                'dep_auc':skm.roc_auc_score(*dep_gt_pd,**kw_args1) if roc_auc else 0\n",
    "            })\n",
    "    df_scores = pl.DataFrame(df_scores)\n",
    "    df_scores_mean = df_scores.group_by('samples').agg((pl.exclude('run').mean()*100).round(1)).sort('samples')\n",
    "    df_scores_std = df_scores.group_by('samples').agg((pl.exclude('run').std()*100).round(1)).sort('samples')\n",
    "    return df_scores_mean,df_scores_std"
   ]
  },
  {
   "cell_type": "code",
   "execution_count": null,
   "id": "15ef96e4",
   "metadata": {},
   "outputs": [],
   "source": [
    "def compute_multiclass_mean_metrics(df_results, roc_auc=True):\n",
    "    label_to_id = {'minimal':0,\n",
    "                   'mild':1,\n",
    "                   'moderate':2,\n",
    "                   'moderately-severe':3,\n",
    "                   'severe':3}\n",
    "    df_results_multiclass = df_results.with_columns(\n",
    "        pl.col('anxiety').replace_strict(label_to_id),\n",
    "        pl.col('depression').replace_strict(label_to_id),\n",
    "        pl.col('anxiety_pd').replace_strict(label_to_id),\n",
    "        pl.col('depression_pd').replace_strict(label_to_id)\n",
    "    )\n",
    "    df_scores = list()\n",
    "    train_participant_ids = df_results['train_participant_ids'].unique().sort()\n",
    "    for n_samples in range(N_SAMPLES,N_SAMPLES+1):\n",
    "        for i_run in range(N_RUNS):\n",
    "            sample_train_participant_ids = train_participant_ids.sample(n_samples,seed=100*n_samples+i_run)\n",
    "            df_val = df_results_multiclass.filter(pl.col('train_participant_ids').is_in(sample_train_participant_ids))\n",
    "            df_mean = df_val.group_by('val_participant_id').agg(\n",
    "                pl.col('anxiety').first(),\n",
    "                pl.col('depression').first(),\n",
    "                pl.col('anxiety_pd').mean().round().cast(pl.Int64),\n",
    "                pl.col('depression_pd').mean().round().cast(pl.Int64)\n",
    "            )\n",
    "            anx_gt_pd = (df_mean['anxiety'],df_mean['anxiety_pd'])\n",
    "            dep_gt_pd = (df_mean['depression'],df_mean['depression_pd'])\n",
    "            anx_gt_pd_mat = (df_mean['anxiety'],np.eye(4)[df_mean['anxiety_pd']])\n",
    "            dep_gt_pd_mat = (df_mean['depression'],np.eye(4)[df_mean['depression_pd']])\n",
    "            kw_args1 = {'average':'weighted',\n",
    "                        'labels':[0,1,2,3],\n",
    "                        'multi_class':'ovr'}\n",
    "            kw_args2 = {'average':'weighted',\n",
    "                        'labels':[0,1,2,3],\n",
    "                        'zero_division':np.nan}\n",
    "            df_scores.append({\n",
    "                'samples':n_samples,\n",
    "                'run':i_run,\n",
    "                # 'anx_acc':skm.accuracy_score(*anx_gt_pd),\n",
    "                # 'dep_acc':skm.accuracy_score(*dep_gt_pd),\n",
    "                'anx_balacc':skm.balanced_accuracy_score(*anx_gt_pd),\n",
    "                'dep_balacc':skm.balanced_accuracy_score(*dep_gt_pd),\n",
    "                'anx_f1':skm.f1_score(*anx_gt_pd,**kw_args2),\n",
    "                'dep_f1':skm.f1_score(*dep_gt_pd,**kw_args2),\n",
    "                'anx_pr':skm.precision_score(*anx_gt_pd,**kw_args2),\n",
    "                'dep_pr':skm.precision_score(*dep_gt_pd,**kw_args2),\n",
    "                'anx_rc':skm.recall_score(*anx_gt_pd,**kw_args2),\n",
    "                'dep_rc':skm.recall_score(*dep_gt_pd,**kw_args2),\n",
    "                'anx_auc':skm.roc_auc_score(*anx_gt_pd_mat,**kw_args1) if roc_auc else 0,\n",
    "                'dep_auc':skm.roc_auc_score(*dep_gt_pd_mat,**kw_args1) if roc_auc else 0\n",
    "            })\n",
    "    df_scores = (pl.DataFrame(df_scores)\n",
    "                 .with_columns(diff_anx_balacc=pl.col('anx_balacc')-0.25,\n",
    "                               diff_dep_balacc=pl.col('dep_balacc')-0.25))\n",
    "    df_scores_mean = (df_scores\n",
    "                      .group_by('samples')\n",
    "                      .agg((pl.exclude('run','diff_anx_balacc','diff_dep_balacc').mean()*100).round(1),\n",
    "                           pl.col('diff_anx_balacc','diff_dep_balacc'))\n",
    "                      .with_columns(wilcoxon_anx=pl.col('diff_anx_balacc').map_elements(compute_wilcoxon_score,\n",
    "                                                                                        return_dtype=pl.List(pl.Float64)),\n",
    "                                    wilcoxon_dep=pl.col('diff_dep_balacc').map_elements(compute_wilcoxon_score,\n",
    "                                                                                        return_dtype=pl.List(pl.Float64)))\n",
    "                      .drop('diff_anx_balacc','diff_dep_balacc')\n",
    "                      .with_columns(wilcoxon_anx_stat=pl.col('wilcoxon_anx').list.get(0),\n",
    "                                    wilcoxon_anx_pval=pl.col('wilcoxon_anx').list.get(1),\n",
    "                                    wilcoxon_dep_stat=pl.col('wilcoxon_dep').list.get(0),\n",
    "                                    wilcoxon_dep_pval=pl.col('wilcoxon_dep').list.get(1))\n",
    "                      .with_columns(wilcoxon_anx_pval_str=pl.col('wilcoxon_anx_pval').map_elements(lambda x: f\"{x:.1e}\",return_dtype=pl.Utf8),\n",
    "                                    wilcoxon_dep_pval_str=pl.col('wilcoxon_dep_pval').map_elements(lambda x: f\"{x:.1e}\",return_dtype=pl.Utf8))\n",
    "                      .drop('wilcoxon_anx','wilcoxon_dep')\n",
    "                      .sort('samples'))\n",
    "    df_scores_std = (df_scores\n",
    "                     .drop('diff_anx_balacc','diff_dep_balacc')\n",
    "                     .group_by('samples')\n",
    "                     .agg((pl.exclude('run').std()*100).round(1))\n",
    "                     .sort('samples'))\n",
    "    return df_scores_mean,df_scores_std"
   ]
  },
  {
   "cell_type": "code",
   "execution_count": null,
   "id": "46a22e5e",
   "metadata": {},
   "outputs": [],
   "source": [
    "def compute_binary_majority_metrics(df_results):\n",
    "    label_to_id = {'minimal':0,\n",
    "                   'mild':1,\n",
    "                   'moderate':1,\n",
    "                   'moderately-severe':1,\n",
    "                   'severe':1}\n",
    "    df_results_binary = df_results.with_columns(\n",
    "        pl.col('anxiety').replace_strict(label_to_id),\n",
    "        pl.col('depression').replace_strict(label_to_id),\n",
    "        pl.col('anxiety_pd').replace_strict(label_to_id),\n",
    "        pl.col('depression_pd').replace_strict(label_to_id)\n",
    "    )\n",
    "    df_scores = list()\n",
    "    train_participant_ids = df_results_binary['train_participant_ids'].unique().sort()\n",
    "    for n_samples in range(N_SAMPLES,N_SAMPLES+1):\n",
    "        for i_run in range(N_RUNS):\n",
    "            sample_train_participant_ids = train_participant_ids.sample(n_samples,seed=100*n_samples+i_run)\n",
    "            df_val = df_results_binary.filter(pl.col('train_participant_ids').is_in(sample_train_participant_ids))\n",
    "            df_mode = df_val.group_by('val_participant_id').agg(\n",
    "                pl.col('anxiety').first(),\n",
    "                pl.col('depression').first(),\n",
    "                pl.col('anxiety_pd').mode().first(),\n",
    "                pl.col('depression_pd').mode().first()\n",
    "            )\n",
    "            anx_gt_pd = (df_mode['anxiety'],df_mode['anxiety_pd'])\n",
    "            dep_gt_pd = (df_mode['depression'],df_mode['depression_pd'])\n",
    "            kw_args1 = {'average':'weighted',\n",
    "                        'labels':[0,1]}\n",
    "            kw_args2 = {'average':'weighted',\n",
    "                        'labels':[0,1],\n",
    "                        'zero_division':np.nan}\n",
    "            df_scores.append({\n",
    "                'samples':n_samples,\n",
    "                'run':i_run,\n",
    "                # 'anx_acc':skm.accuracy_score(*anx_gt_pd),\n",
    "                # 'dep_acc':skm.accuracy_score(*dep_gt_pd),\n",
    "                'anx_balacc':skm.balanced_accuracy_score(*anx_gt_pd),\n",
    "                'dep_balacc':skm.balanced_accuracy_score(*dep_gt_pd),\n",
    "                'anx_f1':skm.f1_score(*anx_gt_pd,**kw_args2),\n",
    "                'dep_f1':skm.f1_score(*dep_gt_pd,**kw_args2),\n",
    "                'anx_pr':skm.precision_score(*anx_gt_pd,**kw_args2),\n",
    "                'dep_pr':skm.precision_score(*dep_gt_pd,**kw_args2),\n",
    "                'anx_rc':skm.recall_score(*anx_gt_pd,**kw_args2),\n",
    "                'dep_rc':skm.recall_score(*dep_gt_pd,**kw_args2),\n",
    "                'anx_auc':skm.roc_auc_score(*anx_gt_pd,**kw_args1),\n",
    "                'dep_auc':skm.roc_auc_score(*dep_gt_pd,**kw_args1)\n",
    "            })\n",
    "    df_scores = pl.DataFrame(df_scores)\n",
    "    df_scores_mean = df_scores.group_by('samples').agg((pl.exclude('run').mean()*100).round(1)).sort('samples')\n",
    "    df_scores_std = df_scores.group_by('samples').agg((pl.exclude('run').std()*100).round(1)).sort('samples')\n",
    "    return df_scores_mean,df_scores_std"
   ]
  },
  {
   "cell_type": "code",
   "execution_count": null,
   "id": "7ff8497c",
   "metadata": {},
   "outputs": [],
   "source": [
    "def compute_multiclass_majority_metrics(df_results):\n",
    "    label_to_id = {'minimal':0,\n",
    "                   'mild':1,\n",
    "                   'moderate':2,\n",
    "                   'moderately-severe':3,\n",
    "                   'severe':3}\n",
    "    df_results_multiclass = df_results.with_columns(\n",
    "        pl.col('anxiety').replace_strict(label_to_id),\n",
    "        pl.col('depression').replace_strict(label_to_id),\n",
    "        pl.col('anxiety_pd').replace_strict(label_to_id),\n",
    "        pl.col('depression_pd').replace_strict(label_to_id)\n",
    "    )\n",
    "    df_scores = list()\n",
    "    train_participant_ids = df_results['train_participant_ids'].unique().sort()\n",
    "    for n_samples in range(N_SAMPLES,N_SAMPLES+1):\n",
    "        for i_run in range(N_RUNS):\n",
    "            sample_train_participant_ids = train_participant_ids.sample(n_samples,seed=100*n_samples+i_run)\n",
    "            df_val = df_results_multiclass.filter(pl.col('train_participant_ids').is_in(sample_train_participant_ids))\n",
    "            df_mode = df_val.group_by('val_participant_id').agg(\n",
    "                pl.col('anxiety').first(),\n",
    "                pl.col('depression').first(),\n",
    "                pl.col('anxiety_pd').mode().first(),\n",
    "                pl.col('depression_pd').mode().first()\n",
    "            )\n",
    "            anx_gt_pd = (df_mode['anxiety'],df_mode['anxiety_pd'])\n",
    "            dep_gt_pd = (df_mode['depression'],df_mode['depression_pd'])\n",
    "            kw_args = {'average':'weighted',\n",
    "                       'labels':[0,1,2,3],\n",
    "                       'zero_division':np.nan}\n",
    "            df_scores.append({\n",
    "                'samples':n_samples,\n",
    "                'run':i_run,\n",
    "                # 'anx_acc':skm.accuracy_score(*anx_gt_pd),\n",
    "                # 'dep_acc':skm.accuracy_score(*dep_gt_pd),\n",
    "                'anx_balacc':skm.balanced_accuracy_score(*anx_gt_pd),\n",
    "                'dep_balacc':skm.balanced_accuracy_score(*dep_gt_pd),\n",
    "                'anx_f1':skm.f1_score(*anx_gt_pd,**kw_args),\n",
    "                'dep_f1':skm.f1_score(*dep_gt_pd,**kw_args),\n",
    "                'anx_pr':skm.precision_score(*anx_gt_pd,**kw_args),\n",
    "                'dep_pr':skm.precision_score(*dep_gt_pd,**kw_args),\n",
    "                'anx_rc':skm.recall_score(*anx_gt_pd,**kw_args),\n",
    "                'dep_rc':skm.recall_score(*dep_gt_pd,**kw_args)\n",
    "            })\n",
    "    df_scores = pl.DataFrame(df_scores)\n",
    "    df_scores_mean = df_scores.group_by('samples').agg((pl.exclude('run').mean()*100).round(1)).sort('samples')\n",
    "    df_scores_std = df_scores.group_by('samples').agg((pl.exclude('run').std()*100).round(1)).sort('samples')\n",
    "    return df_scores_mean,df_scores_std"
   ]
  },
  {
   "cell_type": "markdown",
   "id": "14f0c32a",
   "metadata": {},
   "source": [
    "# ML Algo Eval"
   ]
  },
  {
   "cell_type": "code",
   "execution_count": null,
   "id": "341eb75e",
   "metadata": {},
   "outputs": [],
   "source": [
    "def load_scores(pkl_f):\n",
    "    df = pickle.load(pkl_f.open('rb'))\n",
    "    df = (\n",
    "        pl.DataFrame(df)\n",
    "        .select(pl.exclude('train_example_count_0','train_example_count_1',\n",
    "                           'val_acc','train_acc')) # 'train_balacc','train_f1','train_pr','train_rc','train_auc'\n",
    "        .with_columns(base_algo=pl.col('algo').str.split('_').list.get(0),\n",
    "                      diff_balacc=pl.col('val_balacc')-0.5)\n",
    "        .with_columns(pl.col('val_balacc')*100,pl.col('val_f1')*100,pl.col('val_pr')*100,pl.col('val_rc')*100,pl.col('val_auc')*100,\n",
    "                      pl.col('train_balacc')*100,pl.col('train_f1')*100,pl.col('train_pr')*100,pl.col('train_rc')*100,pl.col('train_auc')*100)\n",
    "    )\n",
    "    df = (\n",
    "        df\n",
    "        .group_by('anx_dep','n_samples','run','base_algo','algo')\n",
    "        .agg(pl.exclude('val_set','diff_balacc').mean(),pl.col('diff_balacc'))\n",
    "    )\n",
    "    df = (\n",
    "        df\n",
    "        .filter(pl.col('val_balacc') == pl.col('val_balacc').max().over('anx_dep','n_samples','run','base_algo'))\n",
    "        .unique(subset=['anx_dep','n_samples','run','base_algo'],keep='first')\n",
    "        .sort('n_samples','run','anx_dep','base_algo')\n",
    "    )\n",
    "    df_anx_mean = (\n",
    "        df\n",
    "        .filter(pl.col('anx_dep')=='anxiety')\n",
    "        .group_by('n_samples','base_algo')\n",
    "        .agg(pl.exclude('anx_dep','run','algo','diff_balacc').mean().round(1),pl.col('diff_balacc'))\n",
    "        .sort('val_balacc',descending=True)\n",
    "        .with_columns(wilcoxon=pl.col('diff_balacc').map_elements(compute_wilcoxon_score,\n",
    "                                                                  return_dtype=pl.List(pl.Float64)))\n",
    "        .with_columns(wilcoxon_stat=pl.col('wilcoxon').list.get(0),\n",
    "                      wilcoxon_pval=pl.col('wilcoxon').list.get(1))\n",
    "        .with_columns(wilcoxon_pval_str=pl.col('wilcoxon_pval').map_elements(lambda x: f\"{x:.1e}\",return_dtype=pl.Utf8))\n",
    "        .drop('diff_balacc','wilcoxon')\n",
    "    )\n",
    "    df_dep_mean = (\n",
    "        df\n",
    "        .filter(pl.col('anx_dep')=='depression')\n",
    "        .group_by('n_samples','base_algo')\n",
    "        .agg(pl.exclude('anx_dep','run','algo','diff_balacc').mean().round(1),pl.col('diff_balacc'))\n",
    "        .sort('val_balacc',descending=True)\n",
    "        .with_columns(wilcoxon=pl.col('diff_balacc').map_elements(compute_wilcoxon_score,\n",
    "                                                                  return_dtype=pl.List(pl.Float64)))\n",
    "        .with_columns(wilcoxon_stat=pl.col('wilcoxon').list.get(0),\n",
    "                      wilcoxon_pval=pl.col('wilcoxon').list.get(1))\n",
    "        .with_columns(wilcoxon_pval_str=pl.col('wilcoxon_pval').map_elements(lambda x: f\"{x:.1e}\",return_dtype=pl.Utf8))\n",
    "        .drop('diff_balacc','wilcoxon')\n",
    "    )\n",
    "    df_anx_std = (\n",
    "        df\n",
    "        .filter(pl.col('anx_dep')=='anxiety')\n",
    "        .group_by('n_samples','base_algo')\n",
    "        .agg(pl.exclude('anx_dep','run','algo','diff_balacc').std().round(1))\n",
    "        .sort('val_balacc',descending=True)\n",
    "    )\n",
    "    df_dep_std = (\n",
    "        df\n",
    "        .filter(pl.col('anx_dep')=='depression')\n",
    "        .group_by('n_samples','base_algo')\n",
    "        .agg(pl.exclude('anx_dep','run','algo','diff_balacc').std().round(1))\n",
    "        .sort('val_balacc',descending=True)\n",
    "    )\n",
    "    return df_anx_mean,df_dep_mean,df_anx_std,df_dep_std"
   ]
  },
  {
   "cell_type": "code",
   "execution_count": null,
   "id": "029c169d",
   "metadata": {},
   "outputs": [],
   "source": [
    "df_gpt_anx_mean,df_gpt_dep_mean,df_gpt_anx_std,df_gpt_dep_std = load_scores(mental_health_d / 'prompts_1_11' / 'ml_algos_binary' / 'metrics.pkl')\n",
    "df_gem_anx_mean,df_gem_dep_mean,df_gem_anx_std,df_gem_dep_std = load_scores(mental_health_d / 'prompts_1_12' / 'ml_algos_binary' / 'metrics.pkl')\n",
    "df_med_anx_mean,df_med_dep_mean,df_med_anx_std,df_med_dep_std = load_scores(mental_health_d / 'prompts_1_17' / 'ml_algos_binary' / 'metrics.pkl')\n",
    "df_lla_anx_mean,df_lla_dep_mean,df_lla_anx_std,df_lla_dep_std = load_scores(mental_health_d / 'prompts_1_13' / 'ml_algos_binary' / 'metrics.pkl')"
   ]
  },
  {
   "cell_type": "code",
   "execution_count": null,
   "id": "3012933d",
   "metadata": {},
   "outputs": [],
   "source": [
    "df_all_anx_mean = pl.concat([\n",
    "    df_gpt_anx_mean.filter((pl.col('n_samples')==N_SAMPLES) & (pl.col('base_algo')==BASE_ALGO)),\n",
    "    df_gem_anx_mean.filter((pl.col('n_samples')==N_SAMPLES) & (pl.col('base_algo')==BASE_ALGO)),\n",
    "    df_med_anx_mean.filter((pl.col('n_samples')==N_SAMPLES) & (pl.col('base_algo')==BASE_ALGO)),\n",
    "    df_lla_anx_mean.filter((pl.col('n_samples')==N_SAMPLES) & (pl.col('base_algo')==BASE_ALGO))\n",
    "])\n",
    "df_all_anx_mean = (df_all_anx_mean\n",
    "                   .with_columns(pl.Series(\"model\",[\"GPT-4o\",\"Gemini-1.5pro\",\"MedLM-Large-1.5\",\"Llama-3.2-90b\"])))\n",
    "display(df_all_anx_mean)"
   ]
  },
  {
   "cell_type": "code",
   "execution_count": null,
   "id": "07a6cdd1",
   "metadata": {},
   "outputs": [],
   "source": [
    "df_all_anx_std = pl.concat([\n",
    "    df_gpt_anx_std.filter((pl.col('n_samples')==N_SAMPLES) & (pl.col('base_algo')==BASE_ALGO)),\n",
    "    df_gem_anx_std.filter((pl.col('n_samples')==N_SAMPLES) & (pl.col('base_algo')==BASE_ALGO)),\n",
    "    df_med_anx_std.filter((pl.col('n_samples')==N_SAMPLES) & (pl.col('base_algo')==BASE_ALGO)),\n",
    "    df_lla_anx_std.filter((pl.col('n_samples')==N_SAMPLES) & (pl.col('base_algo')==BASE_ALGO))\n",
    "])\n",
    "df_all_anx_std = (df_all_anx_std\n",
    "                  .with_columns(pl.Series(\"model\", [\"GPT-4o\", \"Gemini-1.5pro\", \"MedLM-Large-1.5\", \"Llama-3.2-90b\"])))\n",
    "display(df_all_anx_std)"
   ]
  },
  {
   "cell_type": "code",
   "execution_count": null,
   "id": "fca50cf4",
   "metadata": {},
   "outputs": [],
   "source": [
    "df_all_dep_mean = pl.concat([\n",
    "    df_gpt_dep_mean.filter((pl.col('n_samples')==N_SAMPLES) & (pl.col('base_algo')==BASE_ALGO)),\n",
    "    df_gem_dep_mean.filter((pl.col('n_samples')==N_SAMPLES) & (pl.col('base_algo')==BASE_ALGO)),\n",
    "    df_med_dep_mean.filter((pl.col('n_samples')==N_SAMPLES) & (pl.col('base_algo')==BASE_ALGO)),\n",
    "    df_lla_dep_mean.filter((pl.col('n_samples')==N_SAMPLES) & (pl.col('base_algo')==BASE_ALGO))\n",
    "])\n",
    "df_all_dep_mean = (df_all_dep_mean\n",
    "                   .with_columns(pl.Series(\"model\", [\"GPT-4o\", \"Gemini-1.5pro\", \"MedLM-Large-1.5\", \"Llama-3.2-90b\"])))\n",
    "display(df_all_dep_mean)"
   ]
  },
  {
   "cell_type": "code",
   "execution_count": null,
   "id": "df245541",
   "metadata": {},
   "outputs": [],
   "source": [
    "df_all_dep_std = pl.concat([\n",
    "    df_gpt_dep_std.filter((pl.col('n_samples')==N_SAMPLES) & (pl.col('base_algo')==BASE_ALGO)),\n",
    "    df_gem_dep_std.filter((pl.col('n_samples')==N_SAMPLES) & (pl.col('base_algo')==BASE_ALGO)),\n",
    "    df_med_dep_std.filter((pl.col('n_samples')==N_SAMPLES) & (pl.col('base_algo')==BASE_ALGO)),\n",
    "    df_lla_dep_std.filter((pl.col('n_samples')==N_SAMPLES) & (pl.col('base_algo')==BASE_ALGO))\n",
    "])\n",
    "df_all_dep_std = (df_all_dep_std\n",
    "                  .with_columns(pl.Series(\"model\", [\"GPT-4o\", \"Gemini-1.5pro\", \"MedLM-Large-1.5\", \"Llama-3.2-90b\"])))\n",
    "display(df_all_dep_std)"
   ]
  },
  {
   "cell_type": "markdown",
   "id": "b249ab54",
   "metadata": {},
   "source": [
    "# gpt-4o -- 1 Shot\n",
    "1 shot per class where the examples are randomly chosen."
   ]
  },
  {
   "cell_type": "markdown",
   "id": "1e0978f9",
   "metadata": {},
   "source": [
    "#### Read results csv"
   ]
  },
  {
   "cell_type": "code",
   "execution_count": null,
   "id": "da0ccad0",
   "metadata": {},
   "outputs": [],
   "source": [
    "anxiety_labels = ['minimal','mild','moderate','severe']\n",
    "depression_labels = ['minimal','mild','moderate','moderately-severe','severe']\n",
    "drop_participant_ids = [1,82,96]\n",
    "prompts_d = mental_health_d / 'prompts_1_11'\n",
    "results_f = prompts_d / 'results.csv'\n",
    "anxiety_pd_score_col = 'gpt-4o-2024-08-06\\nanxiety total-score\\nprompt_1_11'\n",
    "depression_pd_score_col = 'gpt-4o-2024-08-06\\ndepression total-score\\nprompt_1_11'\n",
    "anxiety_pd_col = 'gpt-4o-2024-08-06\\nanxiety\\nprompt_1_11'\n",
    "depression_pd_col = 'gpt-4o-2024-08-06\\ndepression\\nprompt_1_11'\n",
    "df_results = pl.read_csv(results_f).select('val_participant_id','train_participant_ids',\n",
    "                                           'anxiety','depression',\n",
    "                                           anxiety_pd=anxiety_pd_col,\n",
    "                                           depression_pd=depression_pd_col)\n",
    "assert df_results.filter(pl.col('val_participant_id').is_in(drop_participant_ids)).shape[0] == 0\n",
    "for pid in drop_participant_ids:\n",
    "    assert df_results.filter(pl.col('train_participant_ids').str.contains(f'{pid:03}')).shape[0] == 0\n",
    "# df_results"
   ]
  },
  {
   "cell_type": "markdown",
   "id": "2f090cb9",
   "metadata": {},
   "source": [
    "#### Binary Mean"
   ]
  },
  {
   "cell_type": "code",
   "execution_count": null,
   "id": "ca97c5f9",
   "metadata": {},
   "outputs": [],
   "source": [
    "df_scores_mean,df_scores_std = compute_binary_mean_metrics(df_results)\n",
    "display(df_scores_mean)\n",
    "display(df_scores_std)"
   ]
  },
  {
   "cell_type": "markdown",
   "id": "c2b7a241",
   "metadata": {},
   "source": [
    "#### Multiclass Mean"
   ]
  },
  {
   "cell_type": "code",
   "execution_count": null,
   "id": "d233f775",
   "metadata": {},
   "outputs": [],
   "source": [
    "df_scores_mean,df_scores_std = compute_multiclass_mean_metrics(df_results)\n",
    "display(df_scores_mean)\n",
    "display(df_scores_std)"
   ]
  },
  {
   "cell_type": "markdown",
   "id": "b87b2775",
   "metadata": {},
   "source": [
    "#### Binary Majority"
   ]
  },
  {
   "cell_type": "code",
   "execution_count": null,
   "id": "17bd7dcb",
   "metadata": {},
   "outputs": [],
   "source": [
    "df_scores_mean,df_scores_std = compute_binary_majority_metrics(df_results)\n",
    "display(df_scores_mean)\n",
    "display(df_scores_std)"
   ]
  },
  {
   "cell_type": "markdown",
   "id": "254756c2",
   "metadata": {},
   "source": [
    "#### Multiclass Majority"
   ]
  },
  {
   "cell_type": "code",
   "execution_count": null,
   "id": "176caa82",
   "metadata": {},
   "outputs": [],
   "source": [
    "df_scores_mean,df_scores_std = compute_multiclass_majority_metrics(df_results)\n",
    "display(df_scores_mean)\n",
    "display(df_scores_std)"
   ]
  },
  {
   "cell_type": "markdown",
   "id": "9e3ddf2b",
   "metadata": {},
   "source": [
    "# gpt-4o -- 2 shot\n",
    "2 shot per class where the examples are randomly chosen."
   ]
  },
  {
   "cell_type": "markdown",
   "id": "cff751c8",
   "metadata": {},
   "source": [
    "#### Read results csv"
   ]
  },
  {
   "cell_type": "code",
   "execution_count": null,
   "id": "20d62dd2",
   "metadata": {},
   "outputs": [],
   "source": [
    "anxiety_labels = ['minimal','mild','moderate','severe']\n",
    "depression_labels = ['minimal','mild','moderate','moderately-severe','severe']\n",
    "drop_participant_ids = [1,82,96]\n",
    "prompts_d = mental_health_d / 'prompts_2_05'\n",
    "results_f = prompts_d / 'results.csv'\n",
    "anxiety_pd_col = 'gpt-4o-2024-08-06\\nanxiety\\nprompt_2_05'\n",
    "depression_pd_col = 'gpt-4o-2024-08-06\\ndepression\\nprompt_2_05'\n",
    "df_results = pl.read_csv(results_f).select('val_participant_id','train_participant_ids',\n",
    "                                           'anxiety','depression',\n",
    "                                           anxiety_pd=anxiety_pd_col,\n",
    "                                           depression_pd=depression_pd_col)\n",
    "assert df_results.filter(pl.col('val_participant_id').is_in(drop_participant_ids)).shape[0] == 0\n",
    "for pid in drop_participant_ids:\n",
    "    assert df_results.filter(pl.col('train_participant_ids').str.contains(f'{pid:03}')).shape[0] == 0\n",
    "# df_results"
   ]
  },
  {
   "cell_type": "markdown",
   "id": "d637aab7",
   "metadata": {},
   "source": [
    "#### Binary Mean"
   ]
  },
  {
   "cell_type": "code",
   "execution_count": null,
   "id": "5eeea7f5",
   "metadata": {},
   "outputs": [],
   "source": [
    "df_scores_mean,df_scores_std = compute_binary_mean_metrics(df_results)\n",
    "display(df_scores_mean)\n",
    "display(df_scores_std)"
   ]
  },
  {
   "cell_type": "markdown",
   "id": "4c614b58",
   "metadata": {},
   "source": [
    "#### Multiclass Mean"
   ]
  },
  {
   "cell_type": "code",
   "execution_count": null,
   "id": "ce5d565b",
   "metadata": {},
   "outputs": [],
   "source": [
    "df_scores_mean,df_scores_std = compute_multiclass_mean_metrics(df_results)\n",
    "display(df_scores_mean)\n",
    "display(df_scores_std)"
   ]
  },
  {
   "cell_type": "markdown",
   "id": "5ac2953a",
   "metadata": {},
   "source": [
    "#### Binary Majority"
   ]
  },
  {
   "cell_type": "code",
   "execution_count": null,
   "id": "a5624646",
   "metadata": {},
   "outputs": [],
   "source": [
    "df_scores_mean,df_scores_std = compute_binary_majority_metrics(df_results)\n",
    "display(df_scores_mean)\n",
    "display(df_scores_std)"
   ]
  },
  {
   "cell_type": "markdown",
   "id": "2585f4ec",
   "metadata": {},
   "source": [
    "#### Multiclass Majority"
   ]
  },
  {
   "cell_type": "code",
   "execution_count": null,
   "id": "1a8b92c7",
   "metadata": {},
   "outputs": [],
   "source": [
    "df_scores_mean,df_scores_std = compute_multiclass_majority_metrics(df_results)\n",
    "display(df_scores_mean)\n",
    "display(df_scores_std)"
   ]
  },
  {
   "cell_type": "markdown",
   "id": "4ebdf507",
   "metadata": {},
   "source": [
    "# gpt-4o -- 3 shot\n",
    "3 shot per class where the examples are randomly chosen."
   ]
  },
  {
   "cell_type": "markdown",
   "id": "c4d689d5",
   "metadata": {},
   "source": [
    "#### Read results csv"
   ]
  },
  {
   "cell_type": "code",
   "execution_count": null,
   "id": "0dd908c7",
   "metadata": {},
   "outputs": [],
   "source": [
    "anxiety_labels = ['minimal','mild','moderate','severe']\n",
    "depression_labels = ['minimal','mild','moderate','moderately-severe','severe']\n",
    "drop_participant_ids = [1,82,96]\n",
    "results_f = mental_health_d / 'prompts_3_05' / 'results.csv'\n",
    "anxiety_pd_col = 'gpt-4o-2024-08-06\\nanxiety\\nprompt_3_05'\n",
    "depression_pd_col = 'gpt-4o-2024-08-06\\ndepression\\nprompt_3_05'\n",
    "df_results = pl.read_csv(results_f).select('val_participant_id','train_participant_ids',\n",
    "                                           'anxiety','depression',\n",
    "                                           anxiety_pd=anxiety_pd_col,\n",
    "                                           depression_pd=depression_pd_col)\n",
    "assert df_results.filter(pl.col('val_participant_id').is_in(drop_participant_ids)).shape[0] == 0\n",
    "for pid in drop_participant_ids:\n",
    "    assert df_results.filter(pl.col('train_participant_ids').str.contains(f'{pid:03}')).shape[0] == 0\n",
    "# df_results"
   ]
  },
  {
   "cell_type": "markdown",
   "id": "ba363b7c",
   "metadata": {},
   "source": [
    "#### Binary Mean"
   ]
  },
  {
   "cell_type": "code",
   "execution_count": null,
   "id": "ee0b851e",
   "metadata": {},
   "outputs": [],
   "source": [
    "df_scores_mean,df_scores_std = compute_binary_mean_metrics(df_results)\n",
    "display(df_scores_mean)\n",
    "display(df_scores_std)"
   ]
  },
  {
   "cell_type": "markdown",
   "id": "0826fffd",
   "metadata": {},
   "source": [
    "#### Multiclass Mean"
   ]
  },
  {
   "cell_type": "code",
   "execution_count": null,
   "id": "9d0fa6b8",
   "metadata": {},
   "outputs": [],
   "source": [
    "df_scores_mean,df_scores_std = compute_multiclass_mean_metrics(df_results)\n",
    "display(df_scores_mean)\n",
    "display(df_scores_std)"
   ]
  },
  {
   "cell_type": "markdown",
   "id": "d1721e3d",
   "metadata": {},
   "source": [
    "#### Binary Majority"
   ]
  },
  {
   "cell_type": "code",
   "execution_count": null,
   "id": "75aaca5f",
   "metadata": {},
   "outputs": [],
   "source": [
    "df_scores_mean,df_scores_std = compute_binary_majority_metrics(df_results)\n",
    "display(df_scores_mean)\n",
    "display(df_scores_std)"
   ]
  },
  {
   "cell_type": "markdown",
   "id": "741d2426",
   "metadata": {},
   "source": [
    "#### Multiclass Majority"
   ]
  },
  {
   "cell_type": "code",
   "execution_count": null,
   "id": "613b26f2",
   "metadata": {},
   "outputs": [],
   "source": [
    "df_scores_mean,df_scores_std = compute_multiclass_majority_metrics(df_results)\n",
    "display(df_scores_mean)\n",
    "display(df_scores_std)"
   ]
  },
  {
   "cell_type": "markdown",
   "id": "816d956e",
   "metadata": {},
   "source": [
    "# gpt-4o -- 4 shot\n",
    "4 shot per class where the examples are randomly chosen."
   ]
  },
  {
   "cell_type": "markdown",
   "id": "63f42f9e",
   "metadata": {},
   "source": [
    "#### Read results csv"
   ]
  },
  {
   "cell_type": "code",
   "execution_count": null,
   "id": "96817835",
   "metadata": {},
   "outputs": [],
   "source": [
    "anxiety_labels = ['minimal','mild','moderate','severe']\n",
    "depression_labels = ['minimal','mild','moderate','moderately-severe','severe']\n",
    "drop_participant_ids = [1,82,96]\n",
    "results_f = mental_health_d / 'prompts_4_05' / 'results.csv'\n",
    "anxiety_pd_col = 'gpt-4o-2024-08-06\\nanxiety\\nprompt_4_05'\n",
    "depression_pd_col = 'gpt-4o-2024-08-06\\ndepression\\nprompt_4_05'\n",
    "df_results = pl.read_csv(results_f).select('val_participant_id','train_participant_ids',\n",
    "                                           'anxiety','depression',\n",
    "                                           anxiety_pd=anxiety_pd_col,\n",
    "                                           depression_pd=depression_pd_col)\n",
    "assert df_results.filter(pl.col('val_participant_id').is_in(drop_participant_ids)).shape[0] == 0\n",
    "for pid in drop_participant_ids:\n",
    "    assert df_results.filter(pl.col('train_participant_ids').str.contains(f'{pid:03}')).shape[0] == 0\n",
    "# df_results"
   ]
  },
  {
   "cell_type": "markdown",
   "id": "5da0250d",
   "metadata": {},
   "source": [
    "#### Binary Mean"
   ]
  },
  {
   "cell_type": "code",
   "execution_count": null,
   "id": "26388c8f",
   "metadata": {},
   "outputs": [],
   "source": [
    "df_scores_mean,df_scores_std = compute_binary_mean_metrics(df_results)\n",
    "display(df_scores_mean)\n",
    "display(df_scores_std)"
   ]
  },
  {
   "cell_type": "markdown",
   "id": "b090a9c5",
   "metadata": {},
   "source": [
    "#### Multiclass Mean"
   ]
  },
  {
   "cell_type": "code",
   "execution_count": null,
   "id": "0859bed7",
   "metadata": {},
   "outputs": [],
   "source": [
    "df_scores_mean,df_scores_std = compute_multiclass_mean_metrics(df_results)\n",
    "display(df_scores_mean)\n",
    "display(df_scores_std)"
   ]
  },
  {
   "cell_type": "markdown",
   "id": "efcec79a",
   "metadata": {},
   "source": [
    "#### Binary Majority"
   ]
  },
  {
   "cell_type": "code",
   "execution_count": null,
   "id": "d922d3ab",
   "metadata": {},
   "outputs": [],
   "source": [
    "df_scores_mean,df_scores_std = compute_binary_majority_metrics(df_results)\n",
    "display(df_scores_mean)\n",
    "display(df_scores_std)"
   ]
  },
  {
   "cell_type": "markdown",
   "id": "672e9cd6",
   "metadata": {},
   "source": [
    "#### Multiclass Majority"
   ]
  },
  {
   "cell_type": "code",
   "execution_count": null,
   "id": "43b3ba6c",
   "metadata": {},
   "outputs": [],
   "source": [
    "df_scores_mean,df_scores_std = compute_multiclass_majority_metrics(df_results)\n",
    "display(df_scores_mean)\n",
    "display(df_scores_std)"
   ]
  },
  {
   "cell_type": "markdown",
   "id": "15a1a0ed",
   "metadata": {},
   "source": [
    "# gpt-4o -- 5 shot\n",
    "5 shot per class where the examples are randomly chosen."
   ]
  },
  {
   "cell_type": "markdown",
   "id": "8a78ae14",
   "metadata": {},
   "source": [
    "#### Read results csv"
   ]
  },
  {
   "cell_type": "code",
   "execution_count": null,
   "id": "0268dfba",
   "metadata": {},
   "outputs": [],
   "source": [
    "anxiety_labels = ['minimal','mild','moderate','severe']\n",
    "depression_labels = ['minimal','mild','moderate','moderately-severe','severe']\n",
    "drop_participant_ids = [1,82,96]\n",
    "results_f = mental_health_d / 'prompts_5_05' / 'results.csv'\n",
    "anxiety_pd_col = 'gpt-4o-2024-08-06\\nanxiety\\nprompt_5_05'\n",
    "depression_pd_col = 'gpt-4o-2024-08-06\\ndepression\\nprompt_5_05'\n",
    "df_results = pl.read_csv(results_f).select('val_participant_id','train_participant_ids',\n",
    "                                           'anxiety','depression',\n",
    "                                           anxiety_pd=anxiety_pd_col,\n",
    "                                           depression_pd=depression_pd_col)\n",
    "assert df_results.filter(pl.col('val_participant_id').is_in(drop_participant_ids)).shape[0] == 0\n",
    "for pid in drop_participant_ids:\n",
    "    assert df_results.filter(pl.col('train_participant_ids').str.contains(f'{pid:03}')).shape[0] == 0\n",
    "# df_results"
   ]
  },
  {
   "cell_type": "markdown",
   "id": "01aa77dd",
   "metadata": {},
   "source": [
    "#### Binary Mean"
   ]
  },
  {
   "cell_type": "code",
   "execution_count": null,
   "id": "b4827bc1",
   "metadata": {},
   "outputs": [],
   "source": [
    "df_scores_mean,df_scores_std = compute_binary_mean_metrics(df_results)\n",
    "display(df_scores_mean)\n",
    "display(df_scores_std)"
   ]
  },
  {
   "cell_type": "markdown",
   "id": "77c58952",
   "metadata": {},
   "source": [
    "#### Multiclass Mean"
   ]
  },
  {
   "cell_type": "code",
   "execution_count": null,
   "id": "31e762cf",
   "metadata": {},
   "outputs": [],
   "source": [
    "df_scores_mean,df_scores_std = compute_multiclass_mean_metrics(df_results)\n",
    "display(df_scores_mean)\n",
    "display(df_scores_std)"
   ]
  },
  {
   "cell_type": "markdown",
   "id": "a5daef49",
   "metadata": {},
   "source": [
    "#### Binary Majority"
   ]
  },
  {
   "cell_type": "code",
   "execution_count": null,
   "id": "80bf6737",
   "metadata": {},
   "outputs": [],
   "source": [
    "df_scores_mean,df_scores_std = compute_binary_majority_metrics(df_results)\n",
    "display(df_scores_mean)\n",
    "display(df_scores_std)"
   ]
  },
  {
   "cell_type": "markdown",
   "id": "49648891",
   "metadata": {},
   "source": [
    "#### Multiclass Majority"
   ]
  },
  {
   "cell_type": "code",
   "execution_count": null,
   "id": "0e329b93",
   "metadata": {},
   "outputs": [],
   "source": [
    "df_scores_mean,df_scores_std = compute_multiclass_majority_metrics(df_results)\n",
    "display(df_scores_mean)\n",
    "display(df_scores_std)"
   ]
  },
  {
   "cell_type": "markdown",
   "id": "1c24794f",
   "metadata": {},
   "source": [
    "# gemini-1.5-pro -- 1 Shot\n",
    "1 shot per class where the examples are randomly chosen."
   ]
  },
  {
   "cell_type": "markdown",
   "id": "a4d88db1",
   "metadata": {},
   "source": [
    "#### Read results csv"
   ]
  },
  {
   "cell_type": "code",
   "execution_count": null,
   "id": "b1e5bf83",
   "metadata": {},
   "outputs": [],
   "source": [
    "anxiety_labels = ['minimal','mild','moderate','severe']\n",
    "depression_labels = ['minimal','mild','moderate','moderately-severe','severe']\n",
    "drop_participant_ids = [1,82,96]\n",
    "prompts_d = mental_health_d / 'prompts_1_12'\n",
    "results_f = prompts_d / 'results.csv'\n",
    "anxiety_pd_col = 'gemini_1.5_pro_001\\nanxiety\\nprompt_1_12'\n",
    "depression_pd_col = 'gemini_1.5_pro_001\\ndepression\\nprompt_1_12'\n",
    "df_results = pl.read_csv(results_f).select('val_participant_id','train_participant_ids',\n",
    "                                           'anxiety','depression',\n",
    "                                           anxiety_pd=anxiety_pd_col,\n",
    "                                           depression_pd=depression_pd_col)\n",
    "assert df_results.filter(pl.col('val_participant_id').is_in(drop_participant_ids)).shape[0] == 0\n",
    "for pid in drop_participant_ids:\n",
    "    assert df_results.filter(pl.col('train_participant_ids').str.contains(f'{pid:03}')).shape[0] == 0\n",
    "# df_results"
   ]
  },
  {
   "cell_type": "markdown",
   "id": "ffb3d1a4",
   "metadata": {},
   "source": [
    "#### Binary Mean"
   ]
  },
  {
   "cell_type": "code",
   "execution_count": null,
   "id": "6cc28c63",
   "metadata": {},
   "outputs": [],
   "source": [
    "df_scores_mean,df_scores_std = compute_binary_mean_metrics(df_results)\n",
    "display(df_scores_mean)\n",
    "display(df_scores_std)"
   ]
  },
  {
   "cell_type": "markdown",
   "id": "1bf9212b",
   "metadata": {},
   "source": [
    "#### Multiclass Mean"
   ]
  },
  {
   "cell_type": "code",
   "execution_count": null,
   "id": "46807509",
   "metadata": {},
   "outputs": [],
   "source": [
    "df_scores_mean,df_scores_std = compute_multiclass_mean_metrics(df_results)\n",
    "display(df_scores_mean)\n",
    "display(df_scores_std)"
   ]
  },
  {
   "cell_type": "markdown",
   "id": "010c0c23",
   "metadata": {},
   "source": [
    "#### Binary Majority"
   ]
  },
  {
   "cell_type": "code",
   "execution_count": null,
   "id": "d0426fd3",
   "metadata": {},
   "outputs": [],
   "source": [
    "df_scores_mean,df_scores_std = compute_binary_majority_metrics(df_results)\n",
    "display(df_scores_mean)\n",
    "display(df_scores_std)"
   ]
  },
  {
   "cell_type": "markdown",
   "id": "3f4a9a91",
   "metadata": {},
   "source": [
    "#### Multiclass Majority"
   ]
  },
  {
   "cell_type": "code",
   "execution_count": null,
   "id": "61abd533",
   "metadata": {},
   "outputs": [],
   "source": [
    "df_scores_mean,df_scores_std = compute_multiclass_majority_metrics(df_results)\n",
    "display(df_scores_mean)\n",
    "display(df_scores_std)"
   ]
  },
  {
   "cell_type": "markdown",
   "id": "9d61b866",
   "metadata": {},
   "source": [
    "# gemini-1.5-pro -- 2 Shot\n",
    "2 shot per class where the examples are randomly chosen."
   ]
  },
  {
   "cell_type": "markdown",
   "id": "761c87cb",
   "metadata": {},
   "source": [
    "#### Read results csv"
   ]
  },
  {
   "cell_type": "code",
   "execution_count": null,
   "id": "9c25a15b",
   "metadata": {},
   "outputs": [],
   "source": [
    "anxiety_labels = ['minimal','mild','moderate','severe']\n",
    "depression_labels = ['minimal','mild','moderate','moderately-severe','severe']\n",
    "drop_participant_ids = [1,82,96]\n",
    "results_f = mental_health_d / 'prompts_2_06' / 'results.csv'\n",
    "anxiety_pd_col = 'gemini_1.5_pro_001\\nanxiety\\nprompt_2_06'\n",
    "depression_pd_col = 'gemini_1.5_pro_001\\ndepression\\nprompt_2_06'\n",
    "df_results = pl.read_csv(results_f).select('val_participant_id','train_participant_ids',\n",
    "                                           'anxiety','depression',\n",
    "                                           anxiety_pd=anxiety_pd_col,\n",
    "                                           depression_pd=depression_pd_col)\n",
    "assert df_results.filter(pl.col('val_participant_id').is_in(drop_participant_ids)).shape[0] == 0\n",
    "for pid in drop_participant_ids:\n",
    "    assert df_results.filter(pl.col('train_participant_ids').str.contains(f'{pid:03}')).shape[0] == 0\n",
    "# df_results"
   ]
  },
  {
   "cell_type": "markdown",
   "id": "27c6fdd7",
   "metadata": {},
   "source": [
    "#### Binary Mean"
   ]
  },
  {
   "cell_type": "code",
   "execution_count": null,
   "id": "7d10af8a",
   "metadata": {},
   "outputs": [],
   "source": [
    "df_scores_mean,df_scores_std = compute_binary_mean_metrics(df_results)\n",
    "display(df_scores_mean)\n",
    "display(df_scores_std)"
   ]
  },
  {
   "cell_type": "markdown",
   "id": "69aecddb",
   "metadata": {},
   "source": [
    "#### Multiclass Mean"
   ]
  },
  {
   "cell_type": "code",
   "execution_count": null,
   "id": "0ec88369",
   "metadata": {},
   "outputs": [],
   "source": [
    "df_scores_mean,df_scores_std = compute_multiclass_mean_metrics(df_results)\n",
    "display(df_scores_mean)\n",
    "display(df_scores_std)"
   ]
  },
  {
   "cell_type": "markdown",
   "id": "5315aa3f",
   "metadata": {},
   "source": [
    "#### Binary Majority"
   ]
  },
  {
   "cell_type": "code",
   "execution_count": null,
   "id": "cf3e2004",
   "metadata": {},
   "outputs": [],
   "source": [
    "df_scores_mean,df_scores_std = compute_binary_majority_metrics(df_results)\n",
    "display(df_scores_mean)\n",
    "display(df_scores_std)"
   ]
  },
  {
   "cell_type": "markdown",
   "id": "9025e52a",
   "metadata": {},
   "source": [
    "#### Multiclass Majority"
   ]
  },
  {
   "cell_type": "code",
   "execution_count": null,
   "id": "234753ff",
   "metadata": {},
   "outputs": [],
   "source": [
    "df_scores_mean,df_scores_std = compute_multiclass_majority_metrics(df_results)\n",
    "display(df_scores_mean)\n",
    "display(df_scores_std)"
   ]
  },
  {
   "cell_type": "markdown",
   "id": "fffe06b0",
   "metadata": {},
   "source": [
    "# gemini-1.5-pro -- 3 Shot\n",
    "3 shot per class where the examples are randomly chosen."
   ]
  },
  {
   "cell_type": "markdown",
   "id": "845e334c",
   "metadata": {},
   "source": [
    "#### Read results csv"
   ]
  },
  {
   "cell_type": "code",
   "execution_count": null,
   "id": "c3212b07",
   "metadata": {},
   "outputs": [],
   "source": [
    "anxiety_labels = ['minimal','mild','moderate','severe']\n",
    "depression_labels = ['minimal','mild','moderate','moderately-severe','severe']\n",
    "drop_participant_ids = [1,82,96]\n",
    "results_f = mental_health_d / 'prompts_3_06' / 'results.csv'\n",
    "anxiety_pd_col = 'gemini_1.5_pro_001\\nanxiety\\nprompt_3_06'\n",
    "depression_pd_col = 'gemini_1.5_pro_001\\ndepression\\nprompt_3_06'\n",
    "df_results = pl.read_csv(results_f).select('val_participant_id','train_participant_ids',\n",
    "                                           'anxiety','depression',\n",
    "                                           anxiety_pd=anxiety_pd_col,\n",
    "                                           depression_pd=depression_pd_col)\n",
    "assert df_results.filter(pl.col('val_participant_id').is_in(drop_participant_ids)).shape[0] == 0\n",
    "for pid in drop_participant_ids:\n",
    "    assert df_results.filter(pl.col('train_participant_ids').str.contains(f'{pid:03}')).shape[0] == 0\n",
    "# df_results"
   ]
  },
  {
   "cell_type": "markdown",
   "id": "494fdd70",
   "metadata": {},
   "source": [
    "#### Binary Mean"
   ]
  },
  {
   "cell_type": "code",
   "execution_count": null,
   "id": "561952b1",
   "metadata": {},
   "outputs": [],
   "source": [
    "df_scores_mean,df_scores_std = compute_binary_mean_metrics(df_results)\n",
    "display(df_scores_mean)\n",
    "display(df_scores_std)"
   ]
  },
  {
   "cell_type": "markdown",
   "id": "a098ceb2",
   "metadata": {},
   "source": [
    "#### Multiclass Mean"
   ]
  },
  {
   "cell_type": "code",
   "execution_count": null,
   "id": "0147d4eb",
   "metadata": {},
   "outputs": [],
   "source": [
    "df_scores_mean,df_scores_std = compute_multiclass_mean_metrics(df_results)\n",
    "display(df_scores_mean)\n",
    "display(df_scores_std)"
   ]
  },
  {
   "cell_type": "markdown",
   "id": "1bcca759",
   "metadata": {},
   "source": [
    "#### Binary Majority"
   ]
  },
  {
   "cell_type": "code",
   "execution_count": null,
   "id": "9ca79aee",
   "metadata": {},
   "outputs": [],
   "source": [
    "df_scores_mean,df_scores_std = compute_binary_majority_metrics(df_results)\n",
    "display(df_scores_mean)\n",
    "display(df_scores_std)"
   ]
  },
  {
   "cell_type": "markdown",
   "id": "fd9958e8",
   "metadata": {},
   "source": [
    "#### Multiclass Majority"
   ]
  },
  {
   "cell_type": "code",
   "execution_count": null,
   "id": "f96d8f11",
   "metadata": {},
   "outputs": [],
   "source": [
    "df_scores_mean,df_scores_std = compute_multiclass_majority_metrics(df_results)\n",
    "display(df_scores_mean)\n",
    "display(df_scores_std)"
   ]
  },
  {
   "cell_type": "markdown",
   "id": "c4733fc4",
   "metadata": {},
   "source": [
    "# gemini-1.5-pro -- 4 Shot\n",
    "4 shot per class where the examples are randomly chosen."
   ]
  },
  {
   "cell_type": "markdown",
   "id": "04c62126",
   "metadata": {},
   "source": [
    "#### Read results csv"
   ]
  },
  {
   "cell_type": "code",
   "execution_count": null,
   "id": "1617cbc5",
   "metadata": {},
   "outputs": [],
   "source": [
    "anxiety_labels = ['minimal','mild','moderate','severe']\n",
    "depression_labels = ['minimal','mild','moderate','moderately-severe','severe']\n",
    "drop_participant_ids = [1,82,96]\n",
    "results_f = mental_health_d / 'prompts_4_06' / 'results.csv'\n",
    "anxiety_pd_col = 'gemini_1.5_pro_001\\nanxiety\\nprompt_4_06'\n",
    "depression_pd_col = 'gemini_1.5_pro_001\\ndepression\\nprompt_4_06'\n",
    "df_results = pl.read_csv(results_f).select('val_participant_id','train_participant_ids',\n",
    "                                           'anxiety','depression',\n",
    "                                           anxiety_pd=anxiety_pd_col,\n",
    "                                           depression_pd=depression_pd_col)\n",
    "assert df_results.filter(pl.col('val_participant_id').is_in(drop_participant_ids)).shape[0] == 0\n",
    "for pid in drop_participant_ids:\n",
    "    assert df_results.filter(pl.col('train_participant_ids').str.contains(f'{pid:03}')).shape[0] == 0\n",
    "# df_results"
   ]
  },
  {
   "cell_type": "markdown",
   "id": "ae1ee319",
   "metadata": {},
   "source": [
    "#### Binary Mean"
   ]
  },
  {
   "cell_type": "code",
   "execution_count": null,
   "id": "8700cf07",
   "metadata": {},
   "outputs": [],
   "source": [
    "df_scores_mean,df_scores_std = compute_binary_mean_metrics(df_results)\n",
    "display(df_scores_mean)\n",
    "display(df_scores_std)"
   ]
  },
  {
   "cell_type": "markdown",
   "id": "5156d9c3",
   "metadata": {},
   "source": [
    "#### Multiclass Mean"
   ]
  },
  {
   "cell_type": "code",
   "execution_count": null,
   "id": "c80c502a",
   "metadata": {},
   "outputs": [],
   "source": [
    "df_scores_mean,df_scores_std = compute_multiclass_mean_metrics(df_results)\n",
    "display(df_scores_mean)\n",
    "display(df_scores_std)"
   ]
  },
  {
   "cell_type": "markdown",
   "id": "06426fda",
   "metadata": {},
   "source": [
    "#### Binary Majority"
   ]
  },
  {
   "cell_type": "code",
   "execution_count": null,
   "id": "146f2c7d",
   "metadata": {},
   "outputs": [],
   "source": [
    "df_scores_mean,df_scores_std = compute_binary_majority_metrics(df_results)\n",
    "display(df_scores_mean)\n",
    "display(df_scores_std)"
   ]
  },
  {
   "cell_type": "markdown",
   "id": "d34be2b3",
   "metadata": {},
   "source": [
    "#### Multiclass Majority"
   ]
  },
  {
   "cell_type": "code",
   "execution_count": null,
   "id": "25b3cb2f",
   "metadata": {},
   "outputs": [],
   "source": [
    "df_scores_mean,df_scores_std = compute_multiclass_majority_metrics(df_results)\n",
    "display(df_scores_mean)\n",
    "display(df_scores_std)"
   ]
  },
  {
   "cell_type": "markdown",
   "id": "2d104d82",
   "metadata": {},
   "source": [
    "# gemini-1.5-pro -- 5 Shot\n",
    "5 shot per class where the examples are randomly chosen."
   ]
  },
  {
   "cell_type": "markdown",
   "id": "f097d069",
   "metadata": {},
   "source": [
    "#### Read results csv"
   ]
  },
  {
   "cell_type": "code",
   "execution_count": null,
   "id": "742a073a",
   "metadata": {},
   "outputs": [],
   "source": [
    "anxiety_labels = ['minimal','mild','moderate','severe']\n",
    "depression_labels = ['minimal','mild','moderate','moderately-severe','severe']\n",
    "drop_participant_ids = [1,82,96]\n",
    "results_f = mental_health_d / 'prompts_5_06' / 'results.csv'\n",
    "anxiety_pd_col = 'gemini_1.5_pro_001\\nanxiety\\nprompt_5_06'\n",
    "depression_pd_col = 'gemini_1.5_pro_001\\ndepression\\nprompt_5_06'\n",
    "df_results = pl.read_csv(results_f).select('val_participant_id','train_participant_ids',\n",
    "                                           'anxiety','depression',\n",
    "                                           anxiety_pd=anxiety_pd_col,\n",
    "                                           depression_pd=depression_pd_col)\n",
    "assert df_results.filter(pl.col('val_participant_id').is_in(drop_participant_ids)).shape[0] == 0\n",
    "for pid in drop_participant_ids:\n",
    "    assert df_results.filter(pl.col('train_participant_ids').str.contains(f'{pid:03}')).shape[0] == 0\n",
    "# df_results"
   ]
  },
  {
   "cell_type": "markdown",
   "id": "769cf7c1",
   "metadata": {},
   "source": [
    "#### Binary Mean"
   ]
  },
  {
   "cell_type": "code",
   "execution_count": null,
   "id": "c7c503b2",
   "metadata": {},
   "outputs": [],
   "source": [
    "df_scores_mean,df_scores_std = compute_binary_mean_metrics(df_results)\n",
    "display(df_scores_mean)\n",
    "display(df_scores_std)"
   ]
  },
  {
   "cell_type": "markdown",
   "id": "2abcb8eb",
   "metadata": {},
   "source": [
    "#### Multiclass Mean"
   ]
  },
  {
   "cell_type": "code",
   "execution_count": null,
   "id": "d782598f",
   "metadata": {},
   "outputs": [],
   "source": [
    "df_scores_mean,df_scores_std = compute_multiclass_mean_metrics(df_results)\n",
    "display(df_scores_mean)\n",
    "display(df_scores_std)"
   ]
  },
  {
   "cell_type": "markdown",
   "id": "9af7219e",
   "metadata": {},
   "source": [
    "#### Binary Majority"
   ]
  },
  {
   "cell_type": "code",
   "execution_count": null,
   "id": "4e92678f",
   "metadata": {},
   "outputs": [],
   "source": [
    "df_scores_mean,df_scores_std = compute_binary_majority_metrics(df_results)\n",
    "display(df_scores_mean)\n",
    "display(df_scores_std)"
   ]
  },
  {
   "cell_type": "markdown",
   "id": "229388f5",
   "metadata": {},
   "source": [
    "#### Multiclass Majority"
   ]
  },
  {
   "cell_type": "code",
   "execution_count": null,
   "id": "79f83ba5",
   "metadata": {},
   "outputs": [],
   "source": [
    "df_scores_mean,df_scores_std = compute_multiclass_majority_metrics(df_results)\n",
    "display(df_scores_mean)\n",
    "display(df_scores_std)"
   ]
  },
  {
   "cell_type": "markdown",
   "id": "46c7aad5",
   "metadata": {},
   "source": [
    "# medlm-large-1.5 -- 1 Shot\n",
    "1 shot per class where the examples are randomly chosen."
   ]
  },
  {
   "cell_type": "markdown",
   "id": "bb10a43d",
   "metadata": {},
   "source": [
    "#### Read results csv"
   ]
  },
  {
   "cell_type": "code",
   "execution_count": null,
   "id": "807020c4",
   "metadata": {},
   "outputs": [],
   "source": [
    "anxiety_labels = ['minimal','mild','moderate','severe']\n",
    "depression_labels = ['minimal','mild','moderate','moderately-severe','severe']\n",
    "drop_participant_ids = [1,82,96]\n",
    "prompts_d = mental_health_d / 'prompts_1_17'\n",
    "results_f = prompts_d / 'results.csv'\n",
    "anxiety_pd_col = 'medlm_large_1.5\\nanxiety\\nprompt_1_17'\n",
    "depression_pd_col = 'medlm_large_1.5\\ndepression\\nprompt_1_17'\n",
    "df_results = pl.read_csv(results_f).select('val_participant_id','train_participant_ids',\n",
    "                                           'anxiety','depression',\n",
    "                                           anxiety_pd=anxiety_pd_col,\n",
    "                                           depression_pd=depression_pd_col)\n",
    "assert df_results.filter(pl.col('val_participant_id').is_in(drop_participant_ids)).shape[0] == 0\n",
    "for pid in drop_participant_ids:\n",
    "    assert df_results.filter(pl.col('train_participant_ids').str.contains(f'{pid:03}')).shape[0] == 0\n",
    "# df_results"
   ]
  },
  {
   "cell_type": "markdown",
   "id": "73110203",
   "metadata": {},
   "source": [
    "#### Binary Mean"
   ]
  },
  {
   "cell_type": "code",
   "execution_count": null,
   "id": "2b73eab7",
   "metadata": {},
   "outputs": [],
   "source": [
    "df_scores_mean,df_scores_std = compute_binary_mean_metrics(df_results)\n",
    "display(df_scores_mean)\n",
    "display(df_scores_std)"
   ]
  },
  {
   "cell_type": "markdown",
   "id": "64ae472d",
   "metadata": {},
   "source": [
    "#### Multiclass Mean"
   ]
  },
  {
   "cell_type": "code",
   "execution_count": null,
   "id": "fb941c88",
   "metadata": {},
   "outputs": [],
   "source": [
    "df_scores_mean,df_scores_std = compute_multiclass_mean_metrics(df_results)\n",
    "display(df_scores_mean)\n",
    "display(df_scores_std)"
   ]
  },
  {
   "cell_type": "markdown",
   "id": "91b50eb3",
   "metadata": {},
   "source": [
    "#### Binary Majority"
   ]
  },
  {
   "cell_type": "code",
   "execution_count": null,
   "id": "09f91536",
   "metadata": {},
   "outputs": [],
   "source": [
    "df_scores_mean,df_scores_std = compute_binary_majority_metrics(df_results)\n",
    "display(df_scores_mean)\n",
    "display(df_scores_std)"
   ]
  },
  {
   "cell_type": "markdown",
   "id": "60061573",
   "metadata": {},
   "source": [
    "#### Multiclass Majority"
   ]
  },
  {
   "cell_type": "code",
   "execution_count": null,
   "id": "a89be743",
   "metadata": {},
   "outputs": [],
   "source": [
    "df_scores_mean,df_scores_std = compute_multiclass_majority_metrics(df_results)\n",
    "display(df_scores_mean)\n",
    "display(df_scores_std)"
   ]
  },
  {
   "cell_type": "markdown",
   "id": "48d37d61",
   "metadata": {},
   "source": [
    "# medlm-large-1.5 -- 2 Shot\n",
    "2 shot per class where the examples are randomly chosen."
   ]
  },
  {
   "cell_type": "markdown",
   "id": "0d5f6cf2",
   "metadata": {},
   "source": [
    "#### Read results csv"
   ]
  },
  {
   "cell_type": "code",
   "execution_count": null,
   "id": "2679e7f3",
   "metadata": {},
   "outputs": [],
   "source": [
    "anxiety_labels = ['minimal','mild','moderate','severe']\n",
    "depression_labels = ['minimal','mild','moderate','moderately-severe','severe']\n",
    "drop_participant_ids = [1,82,96]\n",
    "results_f = mental_health_d / 'prompts_2_11' / 'results.csv'\n",
    "anxiety_pd_col = 'medlm_large_1.5\\nanxiety\\nprompt_2_11'\n",
    "depression_pd_col = 'medlm_large_1.5\\ndepression\\nprompt_2_11'\n",
    "df_results = pl.read_csv(results_f).select('val_participant_id','train_participant_ids',\n",
    "                                           'anxiety','depression',\n",
    "                                           anxiety_pd=anxiety_pd_col,\n",
    "                                           depression_pd=depression_pd_col)\n",
    "assert df_results.filter(pl.col('val_participant_id').is_in(drop_participant_ids)).shape[0] == 0\n",
    "for pid in drop_participant_ids:\n",
    "    assert df_results.filter(pl.col('train_participant_ids').str.contains(f'{pid:03}')).shape[0] == 0\n",
    "# df_results"
   ]
  },
  {
   "cell_type": "markdown",
   "id": "20d7bf17",
   "metadata": {},
   "source": [
    "#### Binary Mean"
   ]
  },
  {
   "cell_type": "code",
   "execution_count": null,
   "id": "7aae014b",
   "metadata": {},
   "outputs": [],
   "source": [
    "df_scores_mean,df_scores_std = compute_binary_mean_metrics(df_results)\n",
    "display(df_scores_mean)\n",
    "display(df_scores_std)"
   ]
  },
  {
   "cell_type": "markdown",
   "id": "9b361d3b",
   "metadata": {},
   "source": [
    "#### Multiclass Mean"
   ]
  },
  {
   "cell_type": "code",
   "execution_count": null,
   "id": "a400c3a0",
   "metadata": {},
   "outputs": [],
   "source": [
    "df_scores_mean,df_scores_std = compute_multiclass_mean_metrics(df_results)\n",
    "display(df_scores_mean)\n",
    "display(df_scores_std)"
   ]
  },
  {
   "cell_type": "markdown",
   "id": "12ed3eb0",
   "metadata": {},
   "source": [
    "#### Binary Majority"
   ]
  },
  {
   "cell_type": "code",
   "execution_count": null,
   "id": "5a2b458c",
   "metadata": {},
   "outputs": [],
   "source": [
    "df_scores_mean,df_scores_std = compute_binary_majority_metrics(df_results)\n",
    "display(df_scores_mean)\n",
    "display(df_scores_std)"
   ]
  },
  {
   "cell_type": "markdown",
   "id": "14884543",
   "metadata": {},
   "source": [
    "#### Multiclass Majority"
   ]
  },
  {
   "cell_type": "code",
   "execution_count": null,
   "id": "8a518d82",
   "metadata": {},
   "outputs": [],
   "source": [
    "df_scores_mean,df_scores_std = compute_multiclass_majority_metrics(df_results)\n",
    "display(df_scores_mean)\n",
    "display(df_scores_std)"
   ]
  },
  {
   "cell_type": "markdown",
   "id": "124ff1c4",
   "metadata": {},
   "source": [
    "# medlm-large-1.5 -- 3 Shot\n",
    "3 shot per class where the examples are randomly chosen."
   ]
  },
  {
   "cell_type": "markdown",
   "id": "19758987",
   "metadata": {},
   "source": [
    "#### Read results csv"
   ]
  },
  {
   "cell_type": "code",
   "execution_count": null,
   "id": "dc1f1410",
   "metadata": {},
   "outputs": [],
   "source": [
    "anxiety_labels = ['minimal','mild','moderate','severe']\n",
    "depression_labels = ['minimal','mild','moderate','moderately-severe','severe']\n",
    "drop_participant_ids = [1,82,96]\n",
    "results_f = mental_health_d / 'prompts_3_11' / 'results.csv'\n",
    "anxiety_pd_col = 'medlm_large_1.5\\nanxiety\\nprompt_3_11'\n",
    "depression_pd_col = 'medlm_large_1.5\\ndepression\\nprompt_3_11'\n",
    "df_results = pl.read_csv(results_f).select('val_participant_id','train_participant_ids',\n",
    "                                           'anxiety','depression',\n",
    "                                           anxiety_pd=anxiety_pd_col,\n",
    "                                           depression_pd=depression_pd_col)\n",
    "assert df_results.filter(pl.col('val_participant_id').is_in(drop_participant_ids)).shape[0] == 0\n",
    "for pid in drop_participant_ids:\n",
    "    assert df_results.filter(pl.col('train_participant_ids').str.contains(f'{pid:03}')).shape[0] == 0\n",
    "# df_results"
   ]
  },
  {
   "cell_type": "markdown",
   "id": "65ad032b",
   "metadata": {},
   "source": [
    "#### Binary Mean"
   ]
  },
  {
   "cell_type": "code",
   "execution_count": null,
   "id": "31424b00",
   "metadata": {},
   "outputs": [],
   "source": [
    "df_scores_mean,df_scores_std = compute_binary_mean_metrics(df_results)\n",
    "display(df_scores_mean)\n",
    "display(df_scores_std)"
   ]
  },
  {
   "cell_type": "markdown",
   "id": "f9331756",
   "metadata": {},
   "source": [
    "#### Multiclass Mean"
   ]
  },
  {
   "cell_type": "code",
   "execution_count": null,
   "id": "11c6c67b",
   "metadata": {},
   "outputs": [],
   "source": [
    "df_scores_mean,df_scores_std = compute_multiclass_mean_metrics(df_results)\n",
    "display(df_scores_mean)\n",
    "display(df_scores_std)"
   ]
  },
  {
   "cell_type": "markdown",
   "id": "186dc77e",
   "metadata": {},
   "source": [
    "#### Binary Majority"
   ]
  },
  {
   "cell_type": "code",
   "execution_count": null,
   "id": "09327f76",
   "metadata": {},
   "outputs": [],
   "source": [
    "df_scores_mean,df_scores_std = compute_binary_majority_metrics(df_results)\n",
    "display(df_scores_mean)\n",
    "display(df_scores_std)"
   ]
  },
  {
   "cell_type": "markdown",
   "id": "d0b1941e",
   "metadata": {},
   "source": [
    "#### Multiclass Majority"
   ]
  },
  {
   "cell_type": "code",
   "execution_count": null,
   "id": "55ee02ec",
   "metadata": {},
   "outputs": [],
   "source": [
    "df_scores_mean,df_scores_std = compute_multiclass_majority_metrics(df_results)\n",
    "display(df_scores_mean)\n",
    "display(df_scores_std)"
   ]
  },
  {
   "cell_type": "markdown",
   "id": "b5e50d71",
   "metadata": {},
   "source": [
    "# medlm-large-1.5 -- 4 Shot\n",
    "4 shot per class where the examples are randomly chosen."
   ]
  },
  {
   "cell_type": "markdown",
   "id": "83b891e6",
   "metadata": {},
   "source": [
    "#### Read results csv"
   ]
  },
  {
   "cell_type": "code",
   "execution_count": null,
   "id": "272ea0c2",
   "metadata": {},
   "outputs": [],
   "source": [
    "anxiety_labels = ['minimal','mild','moderate','severe']\n",
    "depression_labels = ['minimal','mild','moderate','moderately-severe','severe']\n",
    "drop_participant_ids = [1,82,96]\n",
    "results_f = mental_health_d / 'prompts_4_11' / 'results.csv'\n",
    "anxiety_pd_col = 'medlm_large_1.5\\nanxiety\\nprompt_4_11'\n",
    "depression_pd_col = 'medlm_large_1.5\\ndepression\\nprompt_4_11'\n",
    "df_results = pl.read_csv(results_f).select('val_participant_id','train_participant_ids',\n",
    "                                           'anxiety','depression',\n",
    "                                           anxiety_pd=anxiety_pd_col,\n",
    "                                           depression_pd=depression_pd_col)\n",
    "assert df_results.filter(pl.col('val_participant_id').is_in(drop_participant_ids)).shape[0] == 0\n",
    "for pid in drop_participant_ids:\n",
    "    assert df_results.filter(pl.col('train_participant_ids').str.contains(f'{pid:03}')).shape[0] == 0\n",
    "# df_results"
   ]
  },
  {
   "cell_type": "markdown",
   "id": "e0c9dd9a",
   "metadata": {},
   "source": [
    "#### Binary Mean"
   ]
  },
  {
   "cell_type": "code",
   "execution_count": null,
   "id": "8b09a72a",
   "metadata": {},
   "outputs": [],
   "source": [
    "df_scores_mean,df_scores_std = compute_binary_mean_metrics(df_results)\n",
    "display(df_scores_mean)\n",
    "display(df_scores_std)"
   ]
  },
  {
   "cell_type": "markdown",
   "id": "acf80894",
   "metadata": {},
   "source": [
    "#### Multiclass Mean"
   ]
  },
  {
   "cell_type": "code",
   "execution_count": null,
   "id": "e806f87a",
   "metadata": {},
   "outputs": [],
   "source": [
    "df_scores_mean,df_scores_std = compute_multiclass_mean_metrics(df_results)\n",
    "display(df_scores_mean)\n",
    "display(df_scores_std)"
   ]
  },
  {
   "cell_type": "markdown",
   "id": "c3249c28",
   "metadata": {},
   "source": [
    "#### Binary Majority"
   ]
  },
  {
   "cell_type": "code",
   "execution_count": null,
   "id": "5b41a679",
   "metadata": {},
   "outputs": [],
   "source": [
    "df_scores_mean,df_scores_std = compute_binary_majority_metrics(df_results)\n",
    "display(df_scores_mean)\n",
    "display(df_scores_std)"
   ]
  },
  {
   "cell_type": "markdown",
   "id": "a5d1cbb1",
   "metadata": {},
   "source": [
    "#### Multiclass Majority"
   ]
  },
  {
   "cell_type": "code",
   "execution_count": null,
   "id": "1a305190",
   "metadata": {},
   "outputs": [],
   "source": [
    "df_scores_mean,df_scores_std = compute_multiclass_majority_metrics(df_results)\n",
    "display(df_scores_mean)\n",
    "display(df_scores_std)"
   ]
  },
  {
   "cell_type": "markdown",
   "id": "4094da31",
   "metadata": {},
   "source": [
    "# medlm-large-1.5 -- 5 Shot\n",
    "5 shot per class where the examples are randomly chosen."
   ]
  },
  {
   "cell_type": "markdown",
   "id": "0978e275",
   "metadata": {},
   "source": [
    "#### Read results csv"
   ]
  },
  {
   "cell_type": "code",
   "execution_count": null,
   "id": "6ecba31e",
   "metadata": {},
   "outputs": [],
   "source": [
    "anxiety_labels = ['minimal','mild','moderate','severe']\n",
    "depression_labels = ['minimal','mild','moderate','moderately-severe','severe']\n",
    "drop_participant_ids = [1,82,96]\n",
    "results_f = mental_health_d / 'prompts_5_11' / 'results.csv'\n",
    "anxiety_pd_col = 'medlm_large_1.5\\nanxiety\\nprompt_5_11'\n",
    "depression_pd_col = 'medlm_large_1.5\\ndepression\\nprompt_5_11'\n",
    "df_results = pl.read_csv(results_f).select('val_participant_id','train_participant_ids',\n",
    "                                           'anxiety','depression',\n",
    "                                           anxiety_pd=anxiety_pd_col,\n",
    "                                           depression_pd=depression_pd_col)\n",
    "assert df_results.filter(pl.col('val_participant_id').is_in(drop_participant_ids)).shape[0] == 0\n",
    "for pid in drop_participant_ids:\n",
    "    assert df_results.filter(pl.col('train_participant_ids').str.contains(f'{pid:03}')).shape[0] == 0\n",
    "# df_results"
   ]
  },
  {
   "cell_type": "markdown",
   "id": "851d841d",
   "metadata": {},
   "source": [
    "#### Binary Mean"
   ]
  },
  {
   "cell_type": "code",
   "execution_count": null,
   "id": "ac4a2cdd",
   "metadata": {},
   "outputs": [],
   "source": [
    "df_scores_mean,df_scores_std = compute_binary_mean_metrics(df_results)\n",
    "display(df_scores_mean)\n",
    "display(df_scores_std)"
   ]
  },
  {
   "cell_type": "markdown",
   "id": "75d1b7a6",
   "metadata": {},
   "source": [
    "#### Multiclass Mean"
   ]
  },
  {
   "cell_type": "code",
   "execution_count": null,
   "id": "cfb97aec",
   "metadata": {},
   "outputs": [],
   "source": [
    "df_scores_mean,df_scores_std = compute_multiclass_mean_metrics(df_results)\n",
    "display(df_scores_mean)\n",
    "display(df_scores_std)"
   ]
  },
  {
   "cell_type": "markdown",
   "id": "ca7b21ad",
   "metadata": {},
   "source": [
    "#### Binary Majority"
   ]
  },
  {
   "cell_type": "code",
   "execution_count": null,
   "id": "0c512c68",
   "metadata": {},
   "outputs": [],
   "source": [
    "df_scores_mean,df_scores_std = compute_binary_majority_metrics(df_results)\n",
    "display(df_scores_mean)\n",
    "display(df_scores_std)"
   ]
  },
  {
   "cell_type": "markdown",
   "id": "42a17293",
   "metadata": {},
   "source": [
    "#### Multiclass Majority"
   ]
  },
  {
   "cell_type": "code",
   "execution_count": null,
   "id": "c76abb53",
   "metadata": {},
   "outputs": [],
   "source": [
    "df_scores_mean,df_scores_std = compute_multiclass_majority_metrics(df_results)\n",
    "display(df_scores_mean)\n",
    "display(df_scores_std)"
   ]
  },
  {
   "cell_type": "markdown",
   "id": "0f5efdfb",
   "metadata": {},
   "source": [
    "# llama-3.2-90b -- 1 Shot\n",
    "1 shot per class where the examples are randomly chosen."
   ]
  },
  {
   "cell_type": "markdown",
   "id": "803b5eab",
   "metadata": {},
   "source": [
    "#### Read results csv"
   ]
  },
  {
   "cell_type": "code",
   "execution_count": null,
   "id": "9513b1db",
   "metadata": {},
   "outputs": [],
   "source": [
    "anxiety_labels = ['minimal','mild','moderate','severe']\n",
    "depression_labels = ['minimal','mild','moderate','moderately-severe','severe']\n",
    "drop_participant_ids = [1,82,96]\n",
    "prompts_d = mental_health_d / 'prompts_1_13'\n",
    "results_f = prompts_d / 'results.csv'\n",
    "anxiety_pd_col = 'llama_3.2_90b_vision_instruct\\nanxiety\\nprompt_1_13'\n",
    "depression_pd_col = 'llama_3.2_90b_vision_instruct\\ndepression\\nprompt_1_13'\n",
    "df_results = pl.read_csv(results_f).select('val_participant_id','train_participant_ids',\n",
    "                                             'anxiety','depression',\n",
    "                                             anxiety_pd=anxiety_pd_col,\n",
    "                                             depression_pd=depression_pd_col)\n",
    "assert df_results.filter(pl.col('val_participant_id').is_in(drop_participant_ids)).shape[0] == 0\n",
    "for pid in drop_participant_ids:\n",
    "    assert df_results.filter(pl.col('train_participant_ids').str.contains(f'{pid:03}')).shape[0] == 0\n",
    "# df_results"
   ]
  },
  {
   "cell_type": "markdown",
   "id": "d6b925da",
   "metadata": {},
   "source": [
    "#### Binary Mean"
   ]
  },
  {
   "cell_type": "code",
   "execution_count": null,
   "id": "aef2ff81",
   "metadata": {},
   "outputs": [],
   "source": [
    "df_scores_mean,df_scores_std = compute_binary_mean_metrics(df_results)\n",
    "display(df_scores_mean)\n",
    "display(df_scores_std)"
   ]
  },
  {
   "cell_type": "markdown",
   "id": "66a0c904",
   "metadata": {},
   "source": [
    "#### Multiclass Mean"
   ]
  },
  {
   "cell_type": "code",
   "execution_count": null,
   "id": "8b559e6f",
   "metadata": {},
   "outputs": [],
   "source": [
    "df_scores_mean,df_scores_std = compute_multiclass_mean_metrics(df_results)\n",
    "display(df_scores_mean)\n",
    "display(df_scores_std)"
   ]
  },
  {
   "cell_type": "markdown",
   "id": "3dffa6b6",
   "metadata": {},
   "source": [
    "#### Binary Majority"
   ]
  },
  {
   "cell_type": "code",
   "execution_count": null,
   "id": "37d860fd",
   "metadata": {},
   "outputs": [],
   "source": [
    "df_scores_mean,df_scores_std = compute_binary_majority_metrics(df_results)\n",
    "display(df_scores_mean)\n",
    "display(df_scores_std)"
   ]
  },
  {
   "cell_type": "markdown",
   "id": "ccbc991c",
   "metadata": {},
   "source": [
    "#### Multiclass Mean"
   ]
  },
  {
   "cell_type": "code",
   "execution_count": null,
   "id": "6ba27de9",
   "metadata": {},
   "outputs": [],
   "source": [
    "df_scores_mean,df_scores_std = compute_multiclass_majority_metrics(df_results)\n",
    "display(df_scores_mean)\n",
    "display(df_scores_std)"
   ]
  },
  {
   "cell_type": "markdown",
   "id": "8f216249",
   "metadata": {},
   "source": [
    "# llama-3.2-90b -- 2 Shot\n",
    "2 shot per class where the examples are randomly chosen."
   ]
  },
  {
   "cell_type": "markdown",
   "id": "b2e1ad0c",
   "metadata": {},
   "source": [
    "#### Read results csv"
   ]
  },
  {
   "cell_type": "code",
   "execution_count": null,
   "id": "9d7a84e6",
   "metadata": {},
   "outputs": [],
   "source": [
    "anxiety_labels = ['minimal','mild','moderate','severe']\n",
    "depression_labels = ['minimal','mild','moderate','moderately-severe','severe']\n",
    "drop_participant_ids = [1,82,96]\n",
    "results_f = mental_health_d / 'prompts_2_07' / 'results.csv'\n",
    "anxiety_pd_col = 'llama_3.2_90b_vision_instruct\\nanxiety\\nprompt_2_07'\n",
    "depression_pd_col = 'llama_3.2_90b_vision_instruct\\ndepression\\nprompt_2_07'\n",
    "df_results = pl.read_csv(results_f).select('val_participant_id','train_participant_ids',\n",
    "                                           'anxiety','depression',\n",
    "                                           anxiety_pd=anxiety_pd_col,\n",
    "                                           depression_pd=depression_pd_col)\n",
    "assert df_results.filter(pl.col('val_participant_id').is_in(drop_participant_ids)).shape[0] == 0\n",
    "for pid in drop_participant_ids:\n",
    "    assert df_results.filter(pl.col('train_participant_ids').str.contains(f'{pid:03}')).shape[0] == 0\n",
    "# df_results"
   ]
  },
  {
   "cell_type": "markdown",
   "id": "d784dcae",
   "metadata": {},
   "source": [
    "#### Binary Mean"
   ]
  },
  {
   "cell_type": "code",
   "execution_count": null,
   "id": "d21979f4",
   "metadata": {},
   "outputs": [],
   "source": [
    "df_scores_mean,df_scores_std = compute_binary_mean_metrics(df_results)\n",
    "display(df_scores_mean)\n",
    "display(df_scores_std)"
   ]
  },
  {
   "cell_type": "markdown",
   "id": "f83fd9ce",
   "metadata": {},
   "source": [
    "#### Multiclass Mean"
   ]
  },
  {
   "cell_type": "code",
   "execution_count": null,
   "id": "d9e1c8ab",
   "metadata": {},
   "outputs": [],
   "source": [
    "df_scores_mean,df_scores_std = compute_multiclass_mean_metrics(df_results)\n",
    "display(df_scores_mean)\n",
    "display(df_scores_std)"
   ]
  },
  {
   "cell_type": "markdown",
   "id": "d79862e4",
   "metadata": {},
   "source": [
    "#### Binary Majority"
   ]
  },
  {
   "cell_type": "code",
   "execution_count": null,
   "id": "ed6c3156",
   "metadata": {},
   "outputs": [],
   "source": [
    "df_scores_mean,df_scores_std = compute_binary_majority_metrics(df_results)\n",
    "display(df_scores_mean)\n",
    "display(df_scores_std)"
   ]
  },
  {
   "cell_type": "markdown",
   "id": "afec5f68",
   "metadata": {},
   "source": [
    "#### Multiclass Majority"
   ]
  },
  {
   "cell_type": "code",
   "execution_count": null,
   "id": "b1634f13",
   "metadata": {},
   "outputs": [],
   "source": [
    "df_scores_mean,df_scores_std = compute_multiclass_majority_metrics(df_results)\n",
    "display(df_scores_mean)\n",
    "display(df_scores_std)"
   ]
  },
  {
   "cell_type": "markdown",
   "id": "8416a91b",
   "metadata": {},
   "source": [
    "# llama-3.2-90b -- 3 Shot\n",
    "3 shot per class where the examples are randomly chosen."
   ]
  },
  {
   "cell_type": "markdown",
   "id": "b73db072",
   "metadata": {},
   "source": [
    "#### Read results csv"
   ]
  },
  {
   "cell_type": "code",
   "execution_count": null,
   "id": "c1da7bbb",
   "metadata": {},
   "outputs": [],
   "source": [
    "anxiety_labels = ['minimal','mild','moderate','severe']\n",
    "depression_labels = ['minimal','mild','moderate','moderately-severe','severe']\n",
    "drop_participant_ids = [1,82,96]\n",
    "results_f = mental_health_d / 'prompts_3_07' / 'results.csv'\n",
    "anxiety_pd_col = 'llama_3.2_90b_vision_instruct\\nanxiety\\nprompt_3_07'\n",
    "depression_pd_col = 'llama_3.2_90b_vision_instruct\\ndepression\\nprompt_3_07'\n",
    "df_results = pl.read_csv(results_f).select('val_participant_id','train_participant_ids',\n",
    "                                           'anxiety','depression',\n",
    "                                           anxiety_pd=anxiety_pd_col,\n",
    "                                           depression_pd=depression_pd_col)\n",
    "assert df_results.filter(pl.col('val_participant_id').is_in(drop_participant_ids)).shape[0] == 0\n",
    "for pid in drop_participant_ids:\n",
    "    assert df_results.filter(pl.col('train_participant_ids').str.contains(f'{pid:03}')).shape[0] == 0\n",
    "# df_results"
   ]
  },
  {
   "cell_type": "markdown",
   "id": "b51e0c70",
   "metadata": {},
   "source": [
    "#### Binary Mean"
   ]
  },
  {
   "cell_type": "code",
   "execution_count": null,
   "id": "5fd66835",
   "metadata": {},
   "outputs": [],
   "source": [
    "df_scores_mean,df_scores_std = compute_binary_mean_metrics(df_results)\n",
    "display(df_scores_mean)\n",
    "display(df_scores_std)"
   ]
  },
  {
   "cell_type": "markdown",
   "id": "72793df5",
   "metadata": {},
   "source": [
    "#### Multiclass Mean"
   ]
  },
  {
   "cell_type": "code",
   "execution_count": null,
   "id": "d37860dd",
   "metadata": {},
   "outputs": [],
   "source": [
    "df_scores_mean,df_scores_std = compute_multiclass_mean_metrics(df_results)\n",
    "display(df_scores_mean)\n",
    "display(df_scores_std)"
   ]
  },
  {
   "cell_type": "markdown",
   "id": "cf7f756d",
   "metadata": {},
   "source": [
    "#### Binary Majority"
   ]
  },
  {
   "cell_type": "code",
   "execution_count": null,
   "id": "27b82441",
   "metadata": {},
   "outputs": [],
   "source": [
    "df_scores_mean,df_scores_std = compute_binary_majority_metrics(df_results)\n",
    "display(df_scores_mean)\n",
    "display(df_scores_std)"
   ]
  },
  {
   "cell_type": "markdown",
   "id": "38a5ec29",
   "metadata": {},
   "source": [
    "#### Multiclass Majority"
   ]
  },
  {
   "cell_type": "code",
   "execution_count": null,
   "id": "ed30f6a0",
   "metadata": {},
   "outputs": [],
   "source": [
    "df_scores_mean,df_scores_std = compute_multiclass_majority_metrics(df_results)\n",
    "display(df_scores_mean)\n",
    "display(df_scores_std)"
   ]
  },
  {
   "cell_type": "markdown",
   "id": "1378ddf1",
   "metadata": {},
   "source": [
    "# llama-3.2-90b -- 4 Shot\n",
    "4 shot per class where the examples are randomly chosen."
   ]
  },
  {
   "cell_type": "markdown",
   "id": "6312410f",
   "metadata": {},
   "source": [
    "#### Read results csv"
   ]
  },
  {
   "cell_type": "code",
   "execution_count": null,
   "id": "28c40220",
   "metadata": {},
   "outputs": [],
   "source": [
    "anxiety_labels = ['minimal','mild','moderate','severe']\n",
    "depression_labels = ['minimal','mild','moderate','moderately-severe','severe']\n",
    "drop_participant_ids = [1,82,96]\n",
    "results_f = mental_health_d / 'prompts_4_07' / 'results.csv'\n",
    "anxiety_pd_col = 'llama_3.2_90b_vision_instruct\\nanxiety\\nprompt_4_07'\n",
    "depression_pd_col = 'llama_3.2_90b_vision_instruct\\ndepression\\nprompt_4_07'\n",
    "df_results = pl.read_csv(results_f).select('val_participant_id','train_participant_ids',\n",
    "                                           'anxiety','depression',\n",
    "                                           anxiety_pd=anxiety_pd_col,\n",
    "                                           depression_pd=depression_pd_col)\n",
    "assert df_results.filter(pl.col('val_participant_id').is_in(drop_participant_ids)).shape[0] == 0\n",
    "for pid in drop_participant_ids:\n",
    "    assert df_results.filter(pl.col('train_participant_ids').str.contains(f'{pid:03}')).shape[0] == 0\n",
    "# df_results"
   ]
  },
  {
   "cell_type": "markdown",
   "id": "0f2a8282",
   "metadata": {},
   "source": [
    "#### Binary Mean"
   ]
  },
  {
   "cell_type": "code",
   "execution_count": null,
   "id": "b35f3399",
   "metadata": {},
   "outputs": [],
   "source": [
    "df_scores_mean,df_scores_std = compute_binary_mean_metrics(df_results)\n",
    "display(df_scores_mean)\n",
    "display(df_scores_std)"
   ]
  },
  {
   "cell_type": "markdown",
   "id": "cd20a37b",
   "metadata": {},
   "source": [
    "#### Multiclass Mean"
   ]
  },
  {
   "cell_type": "code",
   "execution_count": null,
   "id": "a4b30beb",
   "metadata": {},
   "outputs": [],
   "source": [
    "df_scores_mean,df_scores_std = compute_multiclass_mean_metrics(df_results)\n",
    "display(df_scores_mean)\n",
    "display(df_scores_std)"
   ]
  },
  {
   "cell_type": "markdown",
   "id": "d3942965",
   "metadata": {},
   "source": [
    "#### Binary Majority"
   ]
  },
  {
   "cell_type": "code",
   "execution_count": null,
   "id": "bbd55e20",
   "metadata": {},
   "outputs": [],
   "source": [
    "df_scores_mean,df_scores_std = compute_binary_majority_metrics(df_results)\n",
    "display(df_scores_mean)\n",
    "display(df_scores_std)"
   ]
  },
  {
   "cell_type": "markdown",
   "id": "201d080e",
   "metadata": {},
   "source": [
    "#### Multiclass Majority"
   ]
  },
  {
   "cell_type": "code",
   "execution_count": null,
   "id": "525c2f8a",
   "metadata": {},
   "outputs": [],
   "source": [
    "df_scores_mean,df_scores_std = compute_multiclass_majority_metrics(df_results)\n",
    "display(df_scores_mean)\n",
    "display(df_scores_std)"
   ]
  },
  {
   "cell_type": "markdown",
   "id": "79a85457",
   "metadata": {},
   "source": [
    "# llama-3.2-90b -- 5 Shot\n",
    "5 shot per class where the examples are randomly chosen."
   ]
  },
  {
   "cell_type": "markdown",
   "id": "8fa1c7cb",
   "metadata": {},
   "source": [
    "#### Read results csv"
   ]
  },
  {
   "cell_type": "code",
   "execution_count": null,
   "id": "1aa7c164",
   "metadata": {},
   "outputs": [],
   "source": [
    "anxiety_labels = ['minimal','mild','moderate','severe']\n",
    "depression_labels = ['minimal','mild','moderate','moderately-severe','severe']\n",
    "drop_participant_ids = [1,82,96]\n",
    "results_f = mental_health_d / 'prompts_5_07' / 'results.csv'\n",
    "anxiety_pd_col = 'llama_3.2_90b_vision_instruct\\nanxiety\\nprompt_5_07'\n",
    "depression_pd_col = 'llama_3.2_90b_vision_instruct\\ndepression\\nprompt_5_07'\n",
    "df_results = pl.read_csv(results_f).select('val_participant_id','train_participant_ids',\n",
    "                                           'anxiety','depression',\n",
    "                                           anxiety_pd=anxiety_pd_col,\n",
    "                                           depression_pd=depression_pd_col)\n",
    "assert df_results.filter(pl.col('val_participant_id').is_in(drop_participant_ids)).shape[0] == 0\n",
    "for pid in drop_participant_ids:\n",
    "    assert df_results.filter(pl.col('train_participant_ids').str.contains(f'{pid:03}')).shape[0] == 0\n",
    "# df_results"
   ]
  },
  {
   "cell_type": "markdown",
   "id": "a2a6247f",
   "metadata": {},
   "source": [
    "#### Binary Mean"
   ]
  },
  {
   "cell_type": "code",
   "execution_count": null,
   "id": "e52ae7cd",
   "metadata": {},
   "outputs": [],
   "source": [
    "df_scores_mean,df_scores_std = compute_binary_mean_metrics(df_results)\n",
    "display(df_scores_mean)\n",
    "display(df_scores_std)"
   ]
  },
  {
   "cell_type": "markdown",
   "id": "35b838bd",
   "metadata": {},
   "source": [
    "#### Multiclass Mean"
   ]
  },
  {
   "cell_type": "code",
   "execution_count": null,
   "id": "7c1a0fe7",
   "metadata": {},
   "outputs": [],
   "source": [
    "df_scores_mean,df_scores_std = compute_multiclass_mean_metrics(df_results)\n",
    "display(df_scores_mean)\n",
    "display(df_scores_std)"
   ]
  },
  {
   "cell_type": "markdown",
   "id": "1792bc79",
   "metadata": {},
   "source": [
    "#### Binary Majority"
   ]
  },
  {
   "cell_type": "code",
   "execution_count": null,
   "id": "81ffd764",
   "metadata": {},
   "outputs": [],
   "source": [
    "df_scores_mean,df_scores_std = compute_binary_majority_metrics(df_results)\n",
    "display(df_scores_mean)\n",
    "display(df_scores_std)"
   ]
  },
  {
   "cell_type": "markdown",
   "id": "5075ae3d",
   "metadata": {},
   "source": [
    "#### Multiclass Majority"
   ]
  },
  {
   "cell_type": "code",
   "execution_count": null,
   "id": "2961b918",
   "metadata": {},
   "outputs": [],
   "source": [
    "df_scores_mean,df_scores_std = compute_multiclass_majority_metrics(df_results)\n",
    "display(df_scores_mean)\n",
    "display(df_scores_std)"
   ]
  },
  {
   "cell_type": "markdown",
   "id": "29b91004",
   "metadata": {},
   "source": [
    "# gpt-4o -- 1 Shot\n",
    "This is RAG 1shot per class exp, where the 1shot per class is the nearest neighbor in the class as per cosine similarity on OpenAI embeddings of D=3072."
   ]
  },
  {
   "cell_type": "markdown",
   "id": "5548991f",
   "metadata": {},
   "source": [
    "#### Read results csv"
   ]
  },
  {
   "cell_type": "code",
   "execution_count": null,
   "id": "433c6991",
   "metadata": {},
   "outputs": [],
   "source": [
    "anxiety_labels = ['minimal','mild','moderate','severe']\n",
    "depression_labels = ['minimal','mild','moderate','moderately-severe','severe']\n",
    "drop_participant_ids = [1,82,96]\n",
    "results_f = mental_health_d / 'prompts_1_09' / 'results.csv'\n",
    "anxiety_pd_col = 'gpt-4o-2024-08-06\\nanxiety\\nprompt_1_09'\n",
    "depression_pd_col = 'gpt-4o-2024-08-06\\ndepression\\nprompt_1_09'\n",
    "df_results = pl.read_csv(results_f).select('val_participant_id','train_participant_ids',\n",
    "                                           'anxiety','depression',\n",
    "                                           anxiety_pd=anxiety_pd_col,\n",
    "                                           depression_pd=depression_pd_col)\n",
    "assert df_results.filter(pl.col('val_participant_id').is_in(drop_participant_ids)).shape[0] == 0\n",
    "for pid in drop_participant_ids:\n",
    "    assert df_results.filter(pl.col('train_participant_ids').str.contains(f'{pid:03}')).shape[0] == 0\n",
    "# df_results"
   ]
  },
  {
   "cell_type": "markdown",
   "id": "2f1fefee",
   "metadata": {},
   "source": [
    "#### Binary Mean"
   ]
  },
  {
   "cell_type": "code",
   "execution_count": null,
   "id": "6c86c582",
   "metadata": {},
   "outputs": [],
   "source": [
    "df_scores = compute_binary_mean_metrics_nosampling(df_results)\n",
    "display(df_scores)"
   ]
  },
  {
   "cell_type": "markdown",
   "id": "838e6aea",
   "metadata": {},
   "source": [
    "#### Multiclass Mean"
   ]
  },
  {
   "cell_type": "code",
   "execution_count": null,
   "id": "54f3a200",
   "metadata": {},
   "outputs": [],
   "source": [
    "df_scores = compute_multiclass_mean_metrics_nosampling(df_results)\n",
    "display(df_scores)"
   ]
  },
  {
   "cell_type": "markdown",
   "id": "30fc0fd9",
   "metadata": {},
   "source": [
    "# gemini-1.5-pro -- 1 Shot\n",
    "This is RAG 1shot per class exp, where the 1shot is the nearest neighbor per class as per cosine similarity on Google embeddings of D=768."
   ]
  },
  {
   "cell_type": "markdown",
   "id": "e633d28d",
   "metadata": {},
   "source": [
    "#### Read results csv"
   ]
  },
  {
   "cell_type": "code",
   "execution_count": null,
   "id": "8fdbfb7f",
   "metadata": {},
   "outputs": [],
   "source": [
    "anxiety_labels = ['minimal','mild','moderate','severe']\n",
    "depression_labels = ['minimal','mild','moderate','moderately-severe','severe']\n",
    "drop_participant_ids = [1,82,96]\n",
    "results_f = mental_health_d / 'prompts_1_16' / 'results.csv'\n",
    "anxiety_pd_col = 'gemini_1.5_pro_001\\nanxiety\\nprompt_1_16'\n",
    "depression_pd_col = 'gemini_1.5_pro_001\\ndepression\\nprompt_1_16'\n",
    "df_results = pl.read_csv(results_f).select('val_participant_id','train_participant_ids',\n",
    "                                           'anxiety','depression',\n",
    "                                           anxiety_pd=anxiety_pd_col,\n",
    "                                           depression_pd=depression_pd_col)\n",
    "assert df_results.filter(pl.col('val_participant_id').is_in(drop_participant_ids)).shape[0] == 0\n",
    "for pid in drop_participant_ids:\n",
    "    assert df_results.filter(pl.col('train_participant_ids').str.contains(f'{pid:03}')).shape[0] == 0\n",
    "# df_results"
   ]
  },
  {
   "cell_type": "markdown",
   "id": "4f68c4e1",
   "metadata": {},
   "source": [
    "#### Binary Mean"
   ]
  },
  {
   "cell_type": "code",
   "execution_count": null,
   "id": "35fd09f0",
   "metadata": {},
   "outputs": [],
   "source": [
    "df_scores = compute_binary_mean_metrics_nosampling(df_results)\n",
    "display(df_scores)"
   ]
  },
  {
   "cell_type": "markdown",
   "id": "8e93cde0",
   "metadata": {},
   "source": [
    "#### Multiclass Mean"
   ]
  },
  {
   "cell_type": "code",
   "execution_count": null,
   "id": "620ffe4d",
   "metadata": {},
   "outputs": [],
   "source": [
    "df_scores = compute_multiclass_mean_metrics_nosampling(df_results)\n",
    "display(df_scores)"
   ]
  },
  {
   "cell_type": "markdown",
   "id": "383c98dd",
   "metadata": {},
   "source": [
    "# gpt-4o -- 1 Shot\n",
    "This is RAG 1shot exp, where the 1shot is the nearest neighbor in the whole dataset as per cosine similarity on OpenAI embeddings of D=3072."
   ]
  },
  {
   "cell_type": "markdown",
   "id": "e5f24386",
   "metadata": {},
   "source": [
    "#### Read results csv"
   ]
  },
  {
   "cell_type": "code",
   "execution_count": null,
   "id": "3e80bd04",
   "metadata": {},
   "outputs": [],
   "source": [
    "anxiety_labels = ['minimal','mild','moderate','severe']\n",
    "depression_labels = ['minimal','mild','moderate','moderately-severe','severe']\n",
    "drop_participant_ids = [1,82,96]\n",
    "results_f = mental_health_d / 'prompts_1_10' / 'results.csv'\n",
    "anxiety_pd_col = 'gpt-4o-2024-08-06\\nanxiety\\nprompt_1_10'\n",
    "depression_pd_col = 'gpt-4o-2024-08-06\\ndepression\\nprompt_1_10'\n",
    "df_results = pl.read_csv(results_f).select('val_participant_id','train_participant_ids',\n",
    "                                           'anxiety','depression',\n",
    "                                           anxiety_pd=anxiety_pd_col,\n",
    "                                           depression_pd=depression_pd_col)\n",
    "assert df_results.filter(pl.col('val_participant_id').is_in(drop_participant_ids)).shape[0] == 0\n",
    "assert df_results.filter(pl.col('train_participant_ids').is_in(drop_participant_ids)).shape[0] == 0\n",
    "# df_results"
   ]
  },
  {
   "cell_type": "markdown",
   "id": "aa08b80f",
   "metadata": {},
   "source": [
    "#### Binary Mean"
   ]
  },
  {
   "cell_type": "code",
   "execution_count": null,
   "id": "0c35da59",
   "metadata": {},
   "outputs": [],
   "source": [
    "df_scores = compute_binary_mean_metrics_nosampling(df_results)\n",
    "display(df_scores)"
   ]
  },
  {
   "cell_type": "markdown",
   "id": "f0d2d0f9",
   "metadata": {},
   "source": [
    "#### Multiclass Mean"
   ]
  },
  {
   "cell_type": "code",
   "execution_count": null,
   "id": "c89fd8c1",
   "metadata": {},
   "outputs": [],
   "source": [
    "df_scores = compute_multiclass_mean_metrics_nosampling(df_results)\n",
    "display(df_scores)"
   ]
  },
  {
   "cell_type": "markdown",
   "id": "9fc0806e",
   "metadata": {},
   "source": [
    "# gemini-1.5-pro -- 1 Shot\n",
    "This is RAG 1shot exp, where the 1shot is the nearest neighbor in the whole dataset as per cosine similarity on Google embeddings of D=768."
   ]
  },
  {
   "cell_type": "markdown",
   "id": "9f736f75",
   "metadata": {},
   "source": [
    "#### Read results csv"
   ]
  },
  {
   "cell_type": "code",
   "execution_count": null,
   "id": "1b8f09d5",
   "metadata": {},
   "outputs": [],
   "source": [
    "anxiety_labels = ['minimal','mild','moderate','severe']\n",
    "depression_labels = ['minimal','mild','moderate','moderately-severe','severe']\n",
    "drop_participant_ids = [1,82,96]\n",
    "results_f = mental_health_d / 'prompts_1_15' / 'results.csv'\n",
    "anxiety_pd_col = 'gemini_1.5_pro_001\\nanxiety\\nprompt_1_15'\n",
    "depression_pd_col = 'gemini_1.5_pro_001\\ndepression\\nprompt_1_15'\n",
    "df_results = pl.read_csv(results_f).select('val_participant_id','train_participant_ids',\n",
    "                                           'anxiety','depression',\n",
    "                                           anxiety_pd=anxiety_pd_col,\n",
    "                                           depression_pd=depression_pd_col)\n",
    "assert df_results.filter(pl.col('val_participant_id').is_in(drop_participant_ids)).shape[0] == 0\n",
    "assert df_results.filter(pl.col('train_participant_ids').is_in(drop_participant_ids)).shape[0] == 0\n",
    "# df_results"
   ]
  },
  {
   "cell_type": "markdown",
   "id": "5d275d8e",
   "metadata": {},
   "source": [
    "#### Binary Mean"
   ]
  },
  {
   "cell_type": "code",
   "execution_count": null,
   "id": "4c4143dd",
   "metadata": {},
   "outputs": [],
   "source": [
    "df_scores = compute_binary_mean_metrics_nosampling(df_results)\n",
    "display(df_scores)"
   ]
  },
  {
   "cell_type": "markdown",
   "id": "55090e34",
   "metadata": {},
   "source": [
    "#### Multiclass Mean"
   ]
  },
  {
   "cell_type": "code",
   "execution_count": null,
   "id": "4795125b",
   "metadata": {},
   "outputs": [],
   "source": [
    "df_scores = compute_multiclass_mean_metrics_nosampling(df_results)\n",
    "display(df_scores)"
   ]
  },
  {
   "cell_type": "markdown",
   "id": "c69f9e08",
   "metadata": {},
   "source": [
    "# gemini-1.5-pro -- 0 Shot\n",
    "Audio 0 shot."
   ]
  },
  {
   "cell_type": "code",
   "execution_count": null,
   "id": "d47ebc4a",
   "metadata": {},
   "outputs": [],
   "source": [
    "anxiety_labels = ['minimal','mild','moderate','severe']\n",
    "depression_labels = ['minimal','mild','moderate','moderately-severe','severe']\n",
    "drop_participant_ids = [1,82,96]\n",
    "results_f = mental_health_d / 'prompts_a_0_03' / 'results.csv'\n",
    "anxiety_pd_col = 'gemini_1.5_pro_001\\nanxiety\\nprompt_a_0_03'\n",
    "depression_pd_col = 'gemini_1.5_pro_001\\ndepression\\nprompt_a_0_03'\n",
    "df_results = pl.read_csv(results_f).select('val_participant_id',\n",
    "                                           'anxiety','depression',\n",
    "                                           anxiety_pd=anxiety_pd_col,\n",
    "                                           depression_pd=depression_pd_col)\n",
    "assert df_results.filter(pl.col('val_participant_id').is_in(drop_participant_ids)).shape[0] == 0\n",
    "# df_results"
   ]
  },
  {
   "cell_type": "markdown",
   "id": "f2d16b9c",
   "metadata": {},
   "source": [
    "#### Binary Mean"
   ]
  },
  {
   "cell_type": "code",
   "execution_count": null,
   "id": "f7c55b4b",
   "metadata": {},
   "outputs": [],
   "source": [
    "df_scores = compute_binary_mean_metrics_nosampling(df_results)\n",
    "display(df_scores)"
   ]
  },
  {
   "cell_type": "markdown",
   "id": "d189706d",
   "metadata": {},
   "source": [
    "#### Multiclass Mean"
   ]
  },
  {
   "cell_type": "code",
   "execution_count": null,
   "id": "48c136ee",
   "metadata": {},
   "outputs": [],
   "source": [
    "df_scores = compute_multiclass_mean_metrics_nosampling(df_results)\n",
    "display(df_scores)"
   ]
  },
  {
   "cell_type": "markdown",
   "id": "bcb478f7",
   "metadata": {},
   "source": [
    "# gemini-1.5-pro -- 1 Shot\n",
    "Audio 1 shot."
   ]
  },
  {
   "cell_type": "code",
   "execution_count": null,
   "id": "b0b1b5c2",
   "metadata": {},
   "outputs": [],
   "source": [
    "anxiety_labels = ['minimal','mild','moderate','severe']\n",
    "depression_labels = ['minimal','mild','moderate','moderately-severe','severe']\n",
    "drop_participant_ids = [1,82,96]\n",
    "results_f = mental_health_d / 'prompts_a_1_02' / 'results.csv'\n",
    "anxiety_pd_col = 'gemini_1.5_pro_001\\nanxiety\\nprompt_a_1_02'\n",
    "depression_pd_col = 'gemini_1.5_pro_001\\ndepression\\nprompt_a_1_02'\n",
    "df_results = pl.read_csv(results_f).select('val_participant_id','train_participant_ids',\n",
    "                                           'anxiety','depression',\n",
    "                                           anxiety_pd=anxiety_pd_col,\n",
    "                                           depression_pd=depression_pd_col)\n",
    "assert df_results.filter(pl.col('val_participant_id').is_in(drop_participant_ids)).shape[0] == 0\n",
    "for pid in drop_participant_ids:\n",
    "    assert df_results.filter(pl.col('train_participant_ids').str.contains(f'{pid:03}')).shape[0] == 0\n",
    "# df_results"
   ]
  },
  {
   "cell_type": "markdown",
   "id": "a6253e33",
   "metadata": {},
   "source": [
    "#### Binary Mean"
   ]
  },
  {
   "cell_type": "code",
   "execution_count": null,
   "id": "12d7b2dd",
   "metadata": {},
   "outputs": [],
   "source": [
    "df_scores = compute_binary_mean_metrics_nosampling(df_results)\n",
    "display(df_scores)"
   ]
  },
  {
   "cell_type": "markdown",
   "id": "4cdaf830",
   "metadata": {},
   "source": [
    "#### Multiclass Mean"
   ]
  },
  {
   "cell_type": "code",
   "execution_count": null,
   "id": "8fc8942a",
   "metadata": {},
   "outputs": [],
   "source": [
    "df_scores = compute_multiclass_mean_metrics_nosampling(df_results)\n",
    "display(df_scores)"
   ]
  }
 ],
 "metadata": {
  "kernelspec": {
   "display_name": "base",
   "language": "python",
   "name": "python3"
  },
  "language_info": {
   "codemirror_mode": {
    "name": "ipython",
    "version": 3
   },
   "file_extension": ".py",
   "mimetype": "text/x-python",
   "name": "python",
   "nbconvert_exporter": "python",
   "pygments_lexer": "ipython3",
   "version": "3.12.2"
  }
 },
 "nbformat": 4,
 "nbformat_minor": 5
}
